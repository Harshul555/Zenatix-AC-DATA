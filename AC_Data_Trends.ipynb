{
 "cells": [
  {
   "cell_type": "markdown",
   "id": "944a1335",
   "metadata": {},
   "source": [
    "# Gurgaon AC Dataset\n",
    "\n",
    "### By Harshul Gupta\n",
    "### harshul.18bci1055@abes.ac.in"
   ]
  },
  {
   "cell_type": "markdown",
   "id": "b6a37772",
   "metadata": {},
   "source": [
    "__Importing the required libraries__\n",
    "- Pandas for exploring the dataset\n",
    "- Plotly for data visualization (plotly is used because it provides better visualization than mataplotlib and seaborn)"
   ]
  },
  {
   "cell_type": "code",
   "execution_count": 1,
   "id": "b4a7b06f",
   "metadata": {},
   "outputs": [
    {
     "data": {
      "text/html": [
       "        <script type=\"text/javascript\">\n",
       "        window.PlotlyConfig = {MathJaxConfig: 'local'};\n",
       "        if (window.MathJax) {MathJax.Hub.Config({SVG: {font: \"STIX-Web\"}});}\n",
       "        if (typeof require !== 'undefined') {\n",
       "        require.undef(\"plotly\");\n",
       "        requirejs.config({\n",
       "            paths: {\n",
       "                'plotly': ['https://cdn.plot.ly/plotly-2.8.3.min']\n",
       "            }\n",
       "        });\n",
       "        require(['plotly'], function(Plotly) {\n",
       "            window._Plotly = Plotly;\n",
       "        });\n",
       "        }\n",
       "        </script>\n",
       "        "
      ]
     },
     "metadata": {},
     "output_type": "display_data"
    }
   ],
   "source": [
    "import plotly.offline as py\n",
    "py.init_notebook_mode(connected=True)\n",
    "import pandas as pd\n",
    "from plotly.subplots import make_subplots\n",
    "import plotly.graph_objects as go\n",
    "import plotly.express as px\n",
    "import plotly.subplots as sp"
   ]
  },
  {
   "cell_type": "markdown",
   "id": "9882ba16",
   "metadata": {},
   "source": [
    "__Reading the dataset__"
   ]
  },
  {
   "cell_type": "code",
   "execution_count": 2,
   "id": "74412339",
   "metadata": {},
   "outputs": [],
   "source": [
    "data = pd.read_csv(\"AC_Data.csv\")"
   ]
  },
  {
   "cell_type": "code",
   "execution_count": 3,
   "id": "c4682bc4",
   "metadata": {},
   "outputs": [
    {
     "data": {
      "text/plain": [
       "(87840, 19)"
      ]
     },
     "execution_count": 3,
     "metadata": {},
     "output_type": "execute_result"
    }
   ],
   "source": [
    "data.shape"
   ]
  },
  {
   "cell_type": "code",
   "execution_count": 4,
   "id": "8d222c88",
   "metadata": {},
   "outputs": [
    {
     "name": "stdout",
     "output_type": "stream",
     "text": [
      "<class 'pandas.core.frame.DataFrame'>\n",
      "RangeIndex: 87840 entries, 0 to 87839\n",
      "Data columns (total 19 columns):\n",
      " #   Column  Non-Null Count  Dtype  \n",
      "---  ------  --------------  -----  \n",
      " 0   0       87840 non-null  object \n",
      " 1   AC 1    43708 non-null  float64\n",
      " 2   AC 2    43711 non-null  float64\n",
      " 3   AC 3    43713 non-null  float64\n",
      " 4   AC 4    43704 non-null  float64\n",
      " 5   AC 5    43716 non-null  float64\n",
      " 6   AC 6    43717 non-null  float64\n",
      " 7   AC 7    43679 non-null  float64\n",
      " 8   AC 8    43704 non-null  float64\n",
      " 9   AC 9    43654 non-null  float64\n",
      " 10  AC 10   43690 non-null  float64\n",
      " 11  AC 11   43670 non-null  float64\n",
      " 12  AC 12   43713 non-null  float64\n",
      " 13  AC 13   43719 non-null  float64\n",
      " 14  AC 14   43696 non-null  float64\n",
      " 15  AC 15   43715 non-null  float64\n",
      " 16  AC 16   43710 non-null  float64\n",
      " 17  AC 17   43714 non-null  float64\n",
      " 18  AC 18   43723 non-null  float64\n",
      "dtypes: float64(18), object(1)\n",
      "memory usage: 12.7+ MB\n"
     ]
    }
   ],
   "source": [
    "data.info()"
   ]
  },
  {
   "cell_type": "markdown",
   "id": "71ef7dff",
   "metadata": {},
   "source": [
    "- The dataset contains data of 18 ACs along with the date time of the time \n",
    "- It has a total of 19 attributes and 87840 tuples\n",
    "- Also the dataset has entries for every 2 mins, i.e., the data gets added first at 12:00 p.m. and then gets a new entry at 12:02 p.m."
   ]
  },
  {
   "cell_type": "code",
   "execution_count": 5,
   "id": "330bf6f3",
   "metadata": {},
   "outputs": [
    {
     "data": {
      "text/html": [
       "<div>\n",
       "<style scoped>\n",
       "    .dataframe tbody tr th:only-of-type {\n",
       "        vertical-align: middle;\n",
       "    }\n",
       "\n",
       "    .dataframe tbody tr th {\n",
       "        vertical-align: top;\n",
       "    }\n",
       "\n",
       "    .dataframe thead th {\n",
       "        text-align: right;\n",
       "    }\n",
       "</style>\n",
       "<table border=\"1\" class=\"dataframe\">\n",
       "  <thead>\n",
       "    <tr style=\"text-align: right;\">\n",
       "      <th></th>\n",
       "      <th>0</th>\n",
       "      <th>AC 1</th>\n",
       "      <th>AC 2</th>\n",
       "      <th>AC 3</th>\n",
       "      <th>AC 4</th>\n",
       "      <th>AC 5</th>\n",
       "      <th>AC 6</th>\n",
       "      <th>AC 7</th>\n",
       "      <th>AC 8</th>\n",
       "      <th>AC 9</th>\n",
       "      <th>AC 10</th>\n",
       "      <th>AC 11</th>\n",
       "      <th>AC 12</th>\n",
       "      <th>AC 13</th>\n",
       "      <th>AC 14</th>\n",
       "      <th>AC 15</th>\n",
       "      <th>AC 16</th>\n",
       "      <th>AC 17</th>\n",
       "      <th>AC 18</th>\n",
       "    </tr>\n",
       "  </thead>\n",
       "  <tbody>\n",
       "    <tr>\n",
       "      <th>0</th>\n",
       "      <td>2019-08-01 00:00:00</td>\n",
       "      <td>7.518632</td>\n",
       "      <td>8.788315</td>\n",
       "      <td>0.0</td>\n",
       "      <td>0.0</td>\n",
       "      <td>2.617045</td>\n",
       "      <td>4.079041</td>\n",
       "      <td>2.782276</td>\n",
       "      <td>4.624447</td>\n",
       "      <td>5.222060</td>\n",
       "      <td>2.151238</td>\n",
       "      <td>1.585072</td>\n",
       "      <td>0.560373</td>\n",
       "      <td>3.142941</td>\n",
       "      <td>2.749470</td>\n",
       "      <td>5.417774</td>\n",
       "      <td>4.113460</td>\n",
       "      <td>3.305072</td>\n",
       "      <td>6.735981</td>\n",
       "    </tr>\n",
       "    <tr>\n",
       "      <th>1</th>\n",
       "      <td>2019-08-01 00:01:00</td>\n",
       "      <td>NaN</td>\n",
       "      <td>NaN</td>\n",
       "      <td>NaN</td>\n",
       "      <td>NaN</td>\n",
       "      <td>NaN</td>\n",
       "      <td>NaN</td>\n",
       "      <td>NaN</td>\n",
       "      <td>NaN</td>\n",
       "      <td>NaN</td>\n",
       "      <td>NaN</td>\n",
       "      <td>NaN</td>\n",
       "      <td>NaN</td>\n",
       "      <td>NaN</td>\n",
       "      <td>NaN</td>\n",
       "      <td>NaN</td>\n",
       "      <td>NaN</td>\n",
       "      <td>NaN</td>\n",
       "      <td>NaN</td>\n",
       "    </tr>\n",
       "    <tr>\n",
       "      <th>2</th>\n",
       "      <td>2019-08-01 00:02:00</td>\n",
       "      <td>7.426114</td>\n",
       "      <td>8.940615</td>\n",
       "      <td>0.0</td>\n",
       "      <td>0.0</td>\n",
       "      <td>2.581625</td>\n",
       "      <td>3.781231</td>\n",
       "      <td>2.529366</td>\n",
       "      <td>5.057423</td>\n",
       "      <td>5.349465</td>\n",
       "      <td>2.414715</td>\n",
       "      <td>2.168184</td>\n",
       "      <td>1.818730</td>\n",
       "      <td>3.085110</td>\n",
       "      <td>2.720484</td>\n",
       "      <td>3.302422</td>\n",
       "      <td>3.986483</td>\n",
       "      <td>3.220588</td>\n",
       "      <td>6.379500</td>\n",
       "    </tr>\n",
       "    <tr>\n",
       "      <th>3</th>\n",
       "      <td>2019-08-01 00:03:00</td>\n",
       "      <td>NaN</td>\n",
       "      <td>NaN</td>\n",
       "      <td>NaN</td>\n",
       "      <td>NaN</td>\n",
       "      <td>NaN</td>\n",
       "      <td>NaN</td>\n",
       "      <td>NaN</td>\n",
       "      <td>NaN</td>\n",
       "      <td>NaN</td>\n",
       "      <td>NaN</td>\n",
       "      <td>NaN</td>\n",
       "      <td>NaN</td>\n",
       "      <td>NaN</td>\n",
       "      <td>NaN</td>\n",
       "      <td>NaN</td>\n",
       "      <td>NaN</td>\n",
       "      <td>NaN</td>\n",
       "      <td>NaN</td>\n",
       "    </tr>\n",
       "    <tr>\n",
       "      <th>4</th>\n",
       "      <td>2019-08-01 00:04:00</td>\n",
       "      <td>7.052986</td>\n",
       "      <td>9.161103</td>\n",
       "      <td>0.0</td>\n",
       "      <td>0.0</td>\n",
       "      <td>2.592095</td>\n",
       "      <td>3.800127</td>\n",
       "      <td>2.332304</td>\n",
       "      <td>6.322521</td>\n",
       "      <td>3.995392</td>\n",
       "      <td>2.237114</td>\n",
       "      <td>3.345624</td>\n",
       "      <td>2.310409</td>\n",
       "      <td>3.132799</td>\n",
       "      <td>2.676861</td>\n",
       "      <td>3.539026</td>\n",
       "      <td>3.797881</td>\n",
       "      <td>3.131560</td>\n",
       "      <td>6.363475</td>\n",
       "    </tr>\n",
       "  </tbody>\n",
       "</table>\n",
       "</div>"
      ],
      "text/plain": [
       "                     0      AC 1      AC 2  AC 3  AC 4      AC 5      AC 6  \\\n",
       "0  2019-08-01 00:00:00  7.518632  8.788315   0.0   0.0  2.617045  4.079041   \n",
       "1  2019-08-01 00:01:00       NaN       NaN   NaN   NaN       NaN       NaN   \n",
       "2  2019-08-01 00:02:00  7.426114  8.940615   0.0   0.0  2.581625  3.781231   \n",
       "3  2019-08-01 00:03:00       NaN       NaN   NaN   NaN       NaN       NaN   \n",
       "4  2019-08-01 00:04:00  7.052986  9.161103   0.0   0.0  2.592095  3.800127   \n",
       "\n",
       "       AC 7      AC 8      AC 9     AC 10     AC 11     AC 12     AC 13  \\\n",
       "0  2.782276  4.624447  5.222060  2.151238  1.585072  0.560373  3.142941   \n",
       "1       NaN       NaN       NaN       NaN       NaN       NaN       NaN   \n",
       "2  2.529366  5.057423  5.349465  2.414715  2.168184  1.818730  3.085110   \n",
       "3       NaN       NaN       NaN       NaN       NaN       NaN       NaN   \n",
       "4  2.332304  6.322521  3.995392  2.237114  3.345624  2.310409  3.132799   \n",
       "\n",
       "      AC 14     AC 15     AC 16     AC 17     AC 18  \n",
       "0  2.749470  5.417774  4.113460  3.305072  6.735981  \n",
       "1       NaN       NaN       NaN       NaN       NaN  \n",
       "2  2.720484  3.302422  3.986483  3.220588  6.379500  \n",
       "3       NaN       NaN       NaN       NaN       NaN  \n",
       "4  2.676861  3.539026  3.797881  3.131560  6.363475  "
      ]
     },
     "execution_count": 5,
     "metadata": {},
     "output_type": "execute_result"
    }
   ],
   "source": [
    "data.head()"
   ]
  },
  {
   "cell_type": "markdown",
   "id": "5ae5980c",
   "metadata": {},
   "source": [
    "__For every odd min the data is null value, thus these tuples need to be dropped__"
   ]
  },
  {
   "cell_type": "code",
   "execution_count": 6,
   "id": "0e8aec35",
   "metadata": {
    "scrolled": true
   },
   "outputs": [
    {
     "data": {
      "text/html": [
       "<div>\n",
       "<style scoped>\n",
       "    .dataframe tbody tr th:only-of-type {\n",
       "        vertical-align: middle;\n",
       "    }\n",
       "\n",
       "    .dataframe tbody tr th {\n",
       "        vertical-align: top;\n",
       "    }\n",
       "\n",
       "    .dataframe thead th {\n",
       "        text-align: right;\n",
       "    }\n",
       "</style>\n",
       "<table border=\"1\" class=\"dataframe\">\n",
       "  <thead>\n",
       "    <tr style=\"text-align: right;\">\n",
       "      <th></th>\n",
       "      <th>AC 1</th>\n",
       "      <th>AC 2</th>\n",
       "      <th>AC 3</th>\n",
       "      <th>AC 4</th>\n",
       "      <th>AC 5</th>\n",
       "      <th>AC 6</th>\n",
       "      <th>AC 7</th>\n",
       "      <th>AC 8</th>\n",
       "      <th>AC 9</th>\n",
       "      <th>AC 10</th>\n",
       "      <th>AC 11</th>\n",
       "      <th>AC 12</th>\n",
       "      <th>AC 13</th>\n",
       "      <th>AC 14</th>\n",
       "      <th>AC 15</th>\n",
       "      <th>AC 16</th>\n",
       "      <th>AC 17</th>\n",
       "      <th>AC 18</th>\n",
       "    </tr>\n",
       "  </thead>\n",
       "  <tbody>\n",
       "    <tr>\n",
       "      <th>count</th>\n",
       "      <td>43708.000000</td>\n",
       "      <td>43711.000000</td>\n",
       "      <td>43713.000000</td>\n",
       "      <td>43704.000000</td>\n",
       "      <td>43716.000000</td>\n",
       "      <td>43717.000000</td>\n",
       "      <td>43679.000000</td>\n",
       "      <td>43704.000000</td>\n",
       "      <td>43654.000000</td>\n",
       "      <td>43690.000000</td>\n",
       "      <td>43670.000000</td>\n",
       "      <td>43713.000000</td>\n",
       "      <td>43719.000000</td>\n",
       "      <td>43696.000000</td>\n",
       "      <td>43715.000000</td>\n",
       "      <td>43710.000000</td>\n",
       "      <td>43714.000000</td>\n",
       "      <td>43723.000000</td>\n",
       "    </tr>\n",
       "    <tr>\n",
       "      <th>mean</th>\n",
       "      <td>2.379368</td>\n",
       "      <td>3.868892</td>\n",
       "      <td>2.568411</td>\n",
       "      <td>2.395158</td>\n",
       "      <td>1.421699</td>\n",
       "      <td>2.518138</td>\n",
       "      <td>2.980883</td>\n",
       "      <td>2.548711</td>\n",
       "      <td>3.184382</td>\n",
       "      <td>1.538344</td>\n",
       "      <td>2.406141</td>\n",
       "      <td>2.699639</td>\n",
       "      <td>4.279893</td>\n",
       "      <td>2.917122</td>\n",
       "      <td>4.046283</td>\n",
       "      <td>2.800050</td>\n",
       "      <td>4.218979</td>\n",
       "      <td>6.462676</td>\n",
       "    </tr>\n",
       "    <tr>\n",
       "      <th>std</th>\n",
       "      <td>2.276782</td>\n",
       "      <td>2.545147</td>\n",
       "      <td>1.487508</td>\n",
       "      <td>1.797529</td>\n",
       "      <td>0.767218</td>\n",
       "      <td>1.655560</td>\n",
       "      <td>1.473498</td>\n",
       "      <td>1.504482</td>\n",
       "      <td>1.522291</td>\n",
       "      <td>0.685461</td>\n",
       "      <td>1.554481</td>\n",
       "      <td>1.436087</td>\n",
       "      <td>1.847168</td>\n",
       "      <td>1.454946</td>\n",
       "      <td>2.016898</td>\n",
       "      <td>1.606239</td>\n",
       "      <td>1.125491</td>\n",
       "      <td>2.319242</td>\n",
       "    </tr>\n",
       "    <tr>\n",
       "      <th>min</th>\n",
       "      <td>0.000000</td>\n",
       "      <td>0.000000</td>\n",
       "      <td>0.000000</td>\n",
       "      <td>0.000000</td>\n",
       "      <td>0.000000</td>\n",
       "      <td>0.000000</td>\n",
       "      <td>0.000000</td>\n",
       "      <td>0.000000</td>\n",
       "      <td>0.000000</td>\n",
       "      <td>0.000000</td>\n",
       "      <td>0.000000</td>\n",
       "      <td>0.000000</td>\n",
       "      <td>0.000000</td>\n",
       "      <td>0.000000</td>\n",
       "      <td>0.000000</td>\n",
       "      <td>0.000000</td>\n",
       "      <td>0.000000</td>\n",
       "      <td>0.000000</td>\n",
       "    </tr>\n",
       "    <tr>\n",
       "      <th>25%</th>\n",
       "      <td>0.000000</td>\n",
       "      <td>2.123263</td>\n",
       "      <td>1.706508</td>\n",
       "      <td>1.258299</td>\n",
       "      <td>0.970744</td>\n",
       "      <td>1.543779</td>\n",
       "      <td>2.190803</td>\n",
       "      <td>1.766230</td>\n",
       "      <td>2.294635</td>\n",
       "      <td>1.117139</td>\n",
       "      <td>1.591748</td>\n",
       "      <td>1.949729</td>\n",
       "      <td>3.260674</td>\n",
       "      <td>1.852981</td>\n",
       "      <td>3.023501</td>\n",
       "      <td>1.877626</td>\n",
       "      <td>3.752478</td>\n",
       "      <td>4.013579</td>\n",
       "    </tr>\n",
       "    <tr>\n",
       "      <th>50%</th>\n",
       "      <td>2.094330</td>\n",
       "      <td>3.791752</td>\n",
       "      <td>2.486992</td>\n",
       "      <td>2.308961</td>\n",
       "      <td>1.380183</td>\n",
       "      <td>2.665063</td>\n",
       "      <td>3.005071</td>\n",
       "      <td>2.608551</td>\n",
       "      <td>3.082134</td>\n",
       "      <td>1.504554</td>\n",
       "      <td>2.351361</td>\n",
       "      <td>2.727152</td>\n",
       "      <td>4.217381</td>\n",
       "      <td>2.787084</td>\n",
       "      <td>4.001279</td>\n",
       "      <td>2.673698</td>\n",
       "      <td>4.611434</td>\n",
       "      <td>7.131194</td>\n",
       "    </tr>\n",
       "    <tr>\n",
       "      <th>75%</th>\n",
       "      <td>3.661752</td>\n",
       "      <td>5.460892</td>\n",
       "      <td>3.441527</td>\n",
       "      <td>3.476123</td>\n",
       "      <td>1.870234</td>\n",
       "      <td>3.616988</td>\n",
       "      <td>3.897857</td>\n",
       "      <td>3.496358</td>\n",
       "      <td>4.096374</td>\n",
       "      <td>1.963707</td>\n",
       "      <td>3.254937</td>\n",
       "      <td>3.566744</td>\n",
       "      <td>5.379832</td>\n",
       "      <td>3.824467</td>\n",
       "      <td>5.260193</td>\n",
       "      <td>3.695294</td>\n",
       "      <td>4.958306</td>\n",
       "      <td>8.314639</td>\n",
       "    </tr>\n",
       "    <tr>\n",
       "      <th>max</th>\n",
       "      <td>11.194789</td>\n",
       "      <td>11.147141</td>\n",
       "      <td>8.430909</td>\n",
       "      <td>9.879500</td>\n",
       "      <td>5.495358</td>\n",
       "      <td>9.929291</td>\n",
       "      <td>9.356776</td>\n",
       "      <td>9.331506</td>\n",
       "      <td>10.026747</td>\n",
       "      <td>4.625030</td>\n",
       "      <td>10.363151</td>\n",
       "      <td>9.887306</td>\n",
       "      <td>9.796393</td>\n",
       "      <td>9.054969</td>\n",
       "      <td>10.349998</td>\n",
       "      <td>10.654430</td>\n",
       "      <td>5.950261</td>\n",
       "      <td>11.040031</td>\n",
       "    </tr>\n",
       "  </tbody>\n",
       "</table>\n",
       "</div>"
      ],
      "text/plain": [
       "               AC 1          AC 2          AC 3          AC 4          AC 5  \\\n",
       "count  43708.000000  43711.000000  43713.000000  43704.000000  43716.000000   \n",
       "mean       2.379368      3.868892      2.568411      2.395158      1.421699   \n",
       "std        2.276782      2.545147      1.487508      1.797529      0.767218   \n",
       "min        0.000000      0.000000      0.000000      0.000000      0.000000   \n",
       "25%        0.000000      2.123263      1.706508      1.258299      0.970744   \n",
       "50%        2.094330      3.791752      2.486992      2.308961      1.380183   \n",
       "75%        3.661752      5.460892      3.441527      3.476123      1.870234   \n",
       "max       11.194789     11.147141      8.430909      9.879500      5.495358   \n",
       "\n",
       "               AC 6          AC 7          AC 8          AC 9         AC 10  \\\n",
       "count  43717.000000  43679.000000  43704.000000  43654.000000  43690.000000   \n",
       "mean       2.518138      2.980883      2.548711      3.184382      1.538344   \n",
       "std        1.655560      1.473498      1.504482      1.522291      0.685461   \n",
       "min        0.000000      0.000000      0.000000      0.000000      0.000000   \n",
       "25%        1.543779      2.190803      1.766230      2.294635      1.117139   \n",
       "50%        2.665063      3.005071      2.608551      3.082134      1.504554   \n",
       "75%        3.616988      3.897857      3.496358      4.096374      1.963707   \n",
       "max        9.929291      9.356776      9.331506     10.026747      4.625030   \n",
       "\n",
       "              AC 11         AC 12         AC 13         AC 14         AC 15  \\\n",
       "count  43670.000000  43713.000000  43719.000000  43696.000000  43715.000000   \n",
       "mean       2.406141      2.699639      4.279893      2.917122      4.046283   \n",
       "std        1.554481      1.436087      1.847168      1.454946      2.016898   \n",
       "min        0.000000      0.000000      0.000000      0.000000      0.000000   \n",
       "25%        1.591748      1.949729      3.260674      1.852981      3.023501   \n",
       "50%        2.351361      2.727152      4.217381      2.787084      4.001279   \n",
       "75%        3.254937      3.566744      5.379832      3.824467      5.260193   \n",
       "max       10.363151      9.887306      9.796393      9.054969     10.349998   \n",
       "\n",
       "              AC 16         AC 17         AC 18  \n",
       "count  43710.000000  43714.000000  43723.000000  \n",
       "mean       2.800050      4.218979      6.462676  \n",
       "std        1.606239      1.125491      2.319242  \n",
       "min        0.000000      0.000000      0.000000  \n",
       "25%        1.877626      3.752478      4.013579  \n",
       "50%        2.673698      4.611434      7.131194  \n",
       "75%        3.695294      4.958306      8.314639  \n",
       "max       10.654430      5.950261     11.040031  "
      ]
     },
     "execution_count": 6,
     "metadata": {},
     "output_type": "execute_result"
    }
   ],
   "source": [
    "data.describe()"
   ]
  },
  {
   "cell_type": "markdown",
   "id": "55944773",
   "metadata": {},
   "source": [
    "__Removing the unwanted tuples__"
   ]
  },
  {
   "cell_type": "code",
   "execution_count": 7,
   "id": "3a2becce",
   "metadata": {},
   "outputs": [],
   "source": [
    "df = data.dropna(axis = 0)\n",
    "df = df.reset_index(drop = True)"
   ]
  },
  {
   "cell_type": "code",
   "execution_count": 8,
   "id": "bb05aaed",
   "metadata": {},
   "outputs": [
    {
     "data": {
      "text/html": [
       "<div>\n",
       "<style scoped>\n",
       "    .dataframe tbody tr th:only-of-type {\n",
       "        vertical-align: middle;\n",
       "    }\n",
       "\n",
       "    .dataframe tbody tr th {\n",
       "        vertical-align: top;\n",
       "    }\n",
       "\n",
       "    .dataframe thead th {\n",
       "        text-align: right;\n",
       "    }\n",
       "</style>\n",
       "<table border=\"1\" class=\"dataframe\">\n",
       "  <thead>\n",
       "    <tr style=\"text-align: right;\">\n",
       "      <th></th>\n",
       "      <th>0</th>\n",
       "      <th>AC 1</th>\n",
       "      <th>AC 2</th>\n",
       "      <th>AC 3</th>\n",
       "      <th>AC 4</th>\n",
       "      <th>AC 5</th>\n",
       "      <th>AC 6</th>\n",
       "      <th>AC 7</th>\n",
       "      <th>AC 8</th>\n",
       "      <th>AC 9</th>\n",
       "      <th>AC 10</th>\n",
       "      <th>AC 11</th>\n",
       "      <th>AC 12</th>\n",
       "      <th>AC 13</th>\n",
       "      <th>AC 14</th>\n",
       "      <th>AC 15</th>\n",
       "      <th>AC 16</th>\n",
       "      <th>AC 17</th>\n",
       "      <th>AC 18</th>\n",
       "    </tr>\n",
       "  </thead>\n",
       "  <tbody>\n",
       "    <tr>\n",
       "      <th>0</th>\n",
       "      <td>2019-08-01 00:00:00</td>\n",
       "      <td>7.518632</td>\n",
       "      <td>8.788315</td>\n",
       "      <td>0.0</td>\n",
       "      <td>0.0</td>\n",
       "      <td>2.617045</td>\n",
       "      <td>4.079041</td>\n",
       "      <td>2.782276</td>\n",
       "      <td>4.624447</td>\n",
       "      <td>5.222060</td>\n",
       "      <td>2.151238</td>\n",
       "      <td>1.585072</td>\n",
       "      <td>0.560373</td>\n",
       "      <td>3.142941</td>\n",
       "      <td>2.749470</td>\n",
       "      <td>5.417774</td>\n",
       "      <td>4.113460</td>\n",
       "      <td>3.305072</td>\n",
       "      <td>6.735981</td>\n",
       "    </tr>\n",
       "    <tr>\n",
       "      <th>1</th>\n",
       "      <td>2019-08-01 00:02:00</td>\n",
       "      <td>7.426114</td>\n",
       "      <td>8.940615</td>\n",
       "      <td>0.0</td>\n",
       "      <td>0.0</td>\n",
       "      <td>2.581625</td>\n",
       "      <td>3.781231</td>\n",
       "      <td>2.529366</td>\n",
       "      <td>5.057423</td>\n",
       "      <td>5.349465</td>\n",
       "      <td>2.414715</td>\n",
       "      <td>2.168184</td>\n",
       "      <td>1.818730</td>\n",
       "      <td>3.085110</td>\n",
       "      <td>2.720484</td>\n",
       "      <td>3.302422</td>\n",
       "      <td>3.986483</td>\n",
       "      <td>3.220588</td>\n",
       "      <td>6.379500</td>\n",
       "    </tr>\n",
       "    <tr>\n",
       "      <th>2</th>\n",
       "      <td>2019-08-01 00:04:00</td>\n",
       "      <td>7.052986</td>\n",
       "      <td>9.161103</td>\n",
       "      <td>0.0</td>\n",
       "      <td>0.0</td>\n",
       "      <td>2.592095</td>\n",
       "      <td>3.800127</td>\n",
       "      <td>2.332304</td>\n",
       "      <td>6.322521</td>\n",
       "      <td>3.995392</td>\n",
       "      <td>2.237114</td>\n",
       "      <td>3.345624</td>\n",
       "      <td>2.310409</td>\n",
       "      <td>3.132799</td>\n",
       "      <td>2.676861</td>\n",
       "      <td>3.539026</td>\n",
       "      <td>3.797881</td>\n",
       "      <td>3.131560</td>\n",
       "      <td>6.363475</td>\n",
       "    </tr>\n",
       "    <tr>\n",
       "      <th>3</th>\n",
       "      <td>2019-08-01 00:06:00</td>\n",
       "      <td>6.665446</td>\n",
       "      <td>9.065626</td>\n",
       "      <td>0.0</td>\n",
       "      <td>0.0</td>\n",
       "      <td>2.575639</td>\n",
       "      <td>3.772891</td>\n",
       "      <td>2.596200</td>\n",
       "      <td>5.805132</td>\n",
       "      <td>3.553778</td>\n",
       "      <td>1.878356</td>\n",
       "      <td>2.737645</td>\n",
       "      <td>2.510972</td>\n",
       "      <td>3.090007</td>\n",
       "      <td>2.666604</td>\n",
       "      <td>4.607439</td>\n",
       "      <td>3.062610</td>\n",
       "      <td>3.063953</td>\n",
       "      <td>6.127366</td>\n",
       "    </tr>\n",
       "    <tr>\n",
       "      <th>4</th>\n",
       "      <td>2019-08-01 00:08:00</td>\n",
       "      <td>6.674838</td>\n",
       "      <td>9.096130</td>\n",
       "      <td>0.0</td>\n",
       "      <td>0.0</td>\n",
       "      <td>2.021472</td>\n",
       "      <td>3.155697</td>\n",
       "      <td>2.845417</td>\n",
       "      <td>6.315060</td>\n",
       "      <td>3.042244</td>\n",
       "      <td>1.914650</td>\n",
       "      <td>2.452500</td>\n",
       "      <td>2.171791</td>\n",
       "      <td>3.097202</td>\n",
       "      <td>2.710572</td>\n",
       "      <td>5.332696</td>\n",
       "      <td>2.640150</td>\n",
       "      <td>2.864680</td>\n",
       "      <td>5.662474</td>\n",
       "    </tr>\n",
       "  </tbody>\n",
       "</table>\n",
       "</div>"
      ],
      "text/plain": [
       "                     0      AC 1      AC 2  AC 3  AC 4      AC 5      AC 6  \\\n",
       "0  2019-08-01 00:00:00  7.518632  8.788315   0.0   0.0  2.617045  4.079041   \n",
       "1  2019-08-01 00:02:00  7.426114  8.940615   0.0   0.0  2.581625  3.781231   \n",
       "2  2019-08-01 00:04:00  7.052986  9.161103   0.0   0.0  2.592095  3.800127   \n",
       "3  2019-08-01 00:06:00  6.665446  9.065626   0.0   0.0  2.575639  3.772891   \n",
       "4  2019-08-01 00:08:00  6.674838  9.096130   0.0   0.0  2.021472  3.155697   \n",
       "\n",
       "       AC 7      AC 8      AC 9     AC 10     AC 11     AC 12     AC 13  \\\n",
       "0  2.782276  4.624447  5.222060  2.151238  1.585072  0.560373  3.142941   \n",
       "1  2.529366  5.057423  5.349465  2.414715  2.168184  1.818730  3.085110   \n",
       "2  2.332304  6.322521  3.995392  2.237114  3.345624  2.310409  3.132799   \n",
       "3  2.596200  5.805132  3.553778  1.878356  2.737645  2.510972  3.090007   \n",
       "4  2.845417  6.315060  3.042244  1.914650  2.452500  2.171791  3.097202   \n",
       "\n",
       "      AC 14     AC 15     AC 16     AC 17     AC 18  \n",
       "0  2.749470  5.417774  4.113460  3.305072  6.735981  \n",
       "1  2.720484  3.302422  3.986483  3.220588  6.379500  \n",
       "2  2.676861  3.539026  3.797881  3.131560  6.363475  \n",
       "3  2.666604  4.607439  3.062610  3.063953  6.127366  \n",
       "4  2.710572  5.332696  2.640150  2.864680  5.662474  "
      ]
     },
     "execution_count": 8,
     "metadata": {},
     "output_type": "execute_result"
    }
   ],
   "source": [
    "df.head()"
   ]
  },
  {
   "cell_type": "markdown",
   "id": "7c8d84ee",
   "metadata": {},
   "source": [
    "__Splitting the \"0\" column into two seperate columns of date and time__"
   ]
  },
  {
   "cell_type": "code",
   "execution_count": 9,
   "id": "2af8a467",
   "metadata": {},
   "outputs": [],
   "source": [
    "df[\"Date\"] = df[\"0\"].str.split(expand=True)[0]\n",
    "df[\"Time\"] = df[\"0\"].str.split(expand=True)[1]"
   ]
  },
  {
   "cell_type": "markdown",
   "id": "56834c60",
   "metadata": {},
   "source": [
    "__Dropping the \"0\" column__"
   ]
  },
  {
   "cell_type": "code",
   "execution_count": 10,
   "id": "defd60dd",
   "metadata": {},
   "outputs": [],
   "source": [
    "df.drop([\"0\"], inplace = True, axis = 1)"
   ]
  },
  {
   "cell_type": "markdown",
   "id": "5024ba3b",
   "metadata": {},
   "source": [
    "__Finding the AC that had consumed the maximum and minimum power__"
   ]
  },
  {
   "cell_type": "code",
   "execution_count": 11,
   "id": "bf2b98da",
   "metadata": {
    "scrolled": true
   },
   "outputs": [
    {
     "name": "stdout",
     "output_type": "stream",
     "text": [
      "Data is from :  2019-08-01 to 2019-09-30\n"
     ]
    }
   ],
   "source": [
    "print(\"Data is from : \", df.Date.min(), \"to\", df.Date.max())"
   ]
  },
  {
   "cell_type": "code",
   "execution_count": 12,
   "id": "46ab1fa3",
   "metadata": {
    "scrolled": true
   },
   "outputs": [],
   "source": [
    "consumption = df.sum()[:18].sort_values()"
   ]
  },
  {
   "cell_type": "code",
   "execution_count": 13,
   "id": "f4134eca",
   "metadata": {
    "scrolled": true
   },
   "outputs": [
    {
     "name": "stdout",
     "output_type": "stream",
     "text": [
      "Minimum Power consuming AC: AC 5    50800.569898\n",
      "dtype: object\n"
     ]
    }
   ],
   "source": [
    "print(\"Minimum Power consuming AC:\",consumption[:1])"
   ]
  },
  {
   "cell_type": "code",
   "execution_count": 14,
   "id": "8d6c06e7",
   "metadata": {},
   "outputs": [
    {
     "name": "stdout",
     "output_type": "stream",
     "text": [
      "Maximum Power consuming AC: AC 18    223573.076079\n",
      "dtype: object\n"
     ]
    }
   ],
   "source": [
    "print(\"Maximum Power consuming AC:\",consumption[-1:])"
   ]
  },
  {
   "cell_type": "markdown",
   "id": "3342b6d5",
   "metadata": {},
   "source": [
    "- The dataset is from 1st August 2019 to 30th September 2019\n",
    "- The AC 19 had consumned the maximum power\n",
    "- The AC 5 had consumed the minimum power"
   ]
  },
  {
   "cell_type": "code",
   "execution_count": 15,
   "id": "67fcb019",
   "metadata": {},
   "outputs": [
    {
     "data": {
      "text/html": [
       "<div>\n",
       "<style scoped>\n",
       "    .dataframe tbody tr th:only-of-type {\n",
       "        vertical-align: middle;\n",
       "    }\n",
       "\n",
       "    .dataframe tbody tr th {\n",
       "        vertical-align: top;\n",
       "    }\n",
       "\n",
       "    .dataframe thead th {\n",
       "        text-align: right;\n",
       "    }\n",
       "</style>\n",
       "<table border=\"1\" class=\"dataframe\">\n",
       "  <thead>\n",
       "    <tr style=\"text-align: right;\">\n",
       "      <th></th>\n",
       "      <th>AC 1</th>\n",
       "      <th>AC 2</th>\n",
       "      <th>AC 3</th>\n",
       "      <th>AC 4</th>\n",
       "      <th>AC 5</th>\n",
       "      <th>AC 6</th>\n",
       "      <th>AC 7</th>\n",
       "      <th>AC 8</th>\n",
       "      <th>AC 9</th>\n",
       "      <th>AC 10</th>\n",
       "      <th>AC 11</th>\n",
       "      <th>AC 12</th>\n",
       "      <th>AC 13</th>\n",
       "      <th>AC 14</th>\n",
       "      <th>AC 15</th>\n",
       "      <th>AC 16</th>\n",
       "      <th>AC 17</th>\n",
       "      <th>AC 18</th>\n",
       "      <th>Date</th>\n",
       "      <th>Time</th>\n",
       "    </tr>\n",
       "  </thead>\n",
       "  <tbody>\n",
       "    <tr>\n",
       "      <th>0</th>\n",
       "      <td>7.518632</td>\n",
       "      <td>8.788315</td>\n",
       "      <td>0.0</td>\n",
       "      <td>0.0</td>\n",
       "      <td>2.617045</td>\n",
       "      <td>4.079041</td>\n",
       "      <td>2.782276</td>\n",
       "      <td>4.624447</td>\n",
       "      <td>5.222060</td>\n",
       "      <td>2.151238</td>\n",
       "      <td>1.585072</td>\n",
       "      <td>0.560373</td>\n",
       "      <td>3.142941</td>\n",
       "      <td>2.749470</td>\n",
       "      <td>5.417774</td>\n",
       "      <td>4.113460</td>\n",
       "      <td>3.305072</td>\n",
       "      <td>6.735981</td>\n",
       "      <td>2019-08-01</td>\n",
       "      <td>00:00:00</td>\n",
       "    </tr>\n",
       "    <tr>\n",
       "      <th>1</th>\n",
       "      <td>7.426114</td>\n",
       "      <td>8.940615</td>\n",
       "      <td>0.0</td>\n",
       "      <td>0.0</td>\n",
       "      <td>2.581625</td>\n",
       "      <td>3.781231</td>\n",
       "      <td>2.529366</td>\n",
       "      <td>5.057423</td>\n",
       "      <td>5.349465</td>\n",
       "      <td>2.414715</td>\n",
       "      <td>2.168184</td>\n",
       "      <td>1.818730</td>\n",
       "      <td>3.085110</td>\n",
       "      <td>2.720484</td>\n",
       "      <td>3.302422</td>\n",
       "      <td>3.986483</td>\n",
       "      <td>3.220588</td>\n",
       "      <td>6.379500</td>\n",
       "      <td>2019-08-01</td>\n",
       "      <td>00:02:00</td>\n",
       "    </tr>\n",
       "    <tr>\n",
       "      <th>2</th>\n",
       "      <td>7.052986</td>\n",
       "      <td>9.161103</td>\n",
       "      <td>0.0</td>\n",
       "      <td>0.0</td>\n",
       "      <td>2.592095</td>\n",
       "      <td>3.800127</td>\n",
       "      <td>2.332304</td>\n",
       "      <td>6.322521</td>\n",
       "      <td>3.995392</td>\n",
       "      <td>2.237114</td>\n",
       "      <td>3.345624</td>\n",
       "      <td>2.310409</td>\n",
       "      <td>3.132799</td>\n",
       "      <td>2.676861</td>\n",
       "      <td>3.539026</td>\n",
       "      <td>3.797881</td>\n",
       "      <td>3.131560</td>\n",
       "      <td>6.363475</td>\n",
       "      <td>2019-08-01</td>\n",
       "      <td>00:04:00</td>\n",
       "    </tr>\n",
       "    <tr>\n",
       "      <th>3</th>\n",
       "      <td>6.665446</td>\n",
       "      <td>9.065626</td>\n",
       "      <td>0.0</td>\n",
       "      <td>0.0</td>\n",
       "      <td>2.575639</td>\n",
       "      <td>3.772891</td>\n",
       "      <td>2.596200</td>\n",
       "      <td>5.805132</td>\n",
       "      <td>3.553778</td>\n",
       "      <td>1.878356</td>\n",
       "      <td>2.737645</td>\n",
       "      <td>2.510972</td>\n",
       "      <td>3.090007</td>\n",
       "      <td>2.666604</td>\n",
       "      <td>4.607439</td>\n",
       "      <td>3.062610</td>\n",
       "      <td>3.063953</td>\n",
       "      <td>6.127366</td>\n",
       "      <td>2019-08-01</td>\n",
       "      <td>00:06:00</td>\n",
       "    </tr>\n",
       "    <tr>\n",
       "      <th>4</th>\n",
       "      <td>6.674838</td>\n",
       "      <td>9.096130</td>\n",
       "      <td>0.0</td>\n",
       "      <td>0.0</td>\n",
       "      <td>2.021472</td>\n",
       "      <td>3.155697</td>\n",
       "      <td>2.845417</td>\n",
       "      <td>6.315060</td>\n",
       "      <td>3.042244</td>\n",
       "      <td>1.914650</td>\n",
       "      <td>2.452500</td>\n",
       "      <td>2.171791</td>\n",
       "      <td>3.097202</td>\n",
       "      <td>2.710572</td>\n",
       "      <td>5.332696</td>\n",
       "      <td>2.640150</td>\n",
       "      <td>2.864680</td>\n",
       "      <td>5.662474</td>\n",
       "      <td>2019-08-01</td>\n",
       "      <td>00:08:00</td>\n",
       "    </tr>\n",
       "  </tbody>\n",
       "</table>\n",
       "</div>"
      ],
      "text/plain": [
       "       AC 1      AC 2  AC 3  AC 4      AC 5      AC 6      AC 7      AC 8  \\\n",
       "0  7.518632  8.788315   0.0   0.0  2.617045  4.079041  2.782276  4.624447   \n",
       "1  7.426114  8.940615   0.0   0.0  2.581625  3.781231  2.529366  5.057423   \n",
       "2  7.052986  9.161103   0.0   0.0  2.592095  3.800127  2.332304  6.322521   \n",
       "3  6.665446  9.065626   0.0   0.0  2.575639  3.772891  2.596200  5.805132   \n",
       "4  6.674838  9.096130   0.0   0.0  2.021472  3.155697  2.845417  6.315060   \n",
       "\n",
       "       AC 9     AC 10     AC 11     AC 12     AC 13     AC 14     AC 15  \\\n",
       "0  5.222060  2.151238  1.585072  0.560373  3.142941  2.749470  5.417774   \n",
       "1  5.349465  2.414715  2.168184  1.818730  3.085110  2.720484  3.302422   \n",
       "2  3.995392  2.237114  3.345624  2.310409  3.132799  2.676861  3.539026   \n",
       "3  3.553778  1.878356  2.737645  2.510972  3.090007  2.666604  4.607439   \n",
       "4  3.042244  1.914650  2.452500  2.171791  3.097202  2.710572  5.332696   \n",
       "\n",
       "      AC 16     AC 17     AC 18        Date      Time  \n",
       "0  4.113460  3.305072  6.735981  2019-08-01  00:00:00  \n",
       "1  3.986483  3.220588  6.379500  2019-08-01  00:02:00  \n",
       "2  3.797881  3.131560  6.363475  2019-08-01  00:04:00  \n",
       "3  3.062610  3.063953  6.127366  2019-08-01  00:06:00  \n",
       "4  2.640150  2.864680  5.662474  2019-08-01  00:08:00  "
      ]
     },
     "execution_count": 15,
     "metadata": {},
     "output_type": "execute_result"
    }
   ],
   "source": [
    "df.head()"
   ]
  },
  {
   "cell_type": "code",
   "execution_count": 16,
   "id": "c0bb252f",
   "metadata": {},
   "outputs": [
    {
     "name": "stdout",
     "output_type": "stream",
     "text": [
      "<class 'pandas.core.frame.DataFrame'>\n",
      "RangeIndex: 34642 entries, 0 to 34641\n",
      "Data columns (total 20 columns):\n",
      " #   Column  Non-Null Count  Dtype  \n",
      "---  ------  --------------  -----  \n",
      " 0   AC 1    34642 non-null  float64\n",
      " 1   AC 2    34642 non-null  float64\n",
      " 2   AC 3    34642 non-null  float64\n",
      " 3   AC 4    34642 non-null  float64\n",
      " 4   AC 5    34642 non-null  float64\n",
      " 5   AC 6    34642 non-null  float64\n",
      " 6   AC 7    34642 non-null  float64\n",
      " 7   AC 8    34642 non-null  float64\n",
      " 8   AC 9    34642 non-null  float64\n",
      " 9   AC 10   34642 non-null  float64\n",
      " 10  AC 11   34642 non-null  float64\n",
      " 11  AC 12   34642 non-null  float64\n",
      " 12  AC 13   34642 non-null  float64\n",
      " 13  AC 14   34642 non-null  float64\n",
      " 14  AC 15   34642 non-null  float64\n",
      " 15  AC 16   34642 non-null  float64\n",
      " 16  AC 17   34642 non-null  float64\n",
      " 17  AC 18   34642 non-null  float64\n",
      " 18  Date    34642 non-null  object \n",
      " 19  Time    34642 non-null  object \n",
      "dtypes: float64(18), object(2)\n",
      "memory usage: 5.3+ MB\n"
     ]
    }
   ],
   "source": [
    "df.info()"
   ]
  },
  {
   "cell_type": "code",
   "execution_count": 17,
   "id": "2d17ad26",
   "metadata": {},
   "outputs": [
    {
     "name": "stdout",
     "output_type": "stream",
     "text": [
      "Index(['AC 1', 'AC 2', 'AC 3', 'AC 4', 'AC 5', 'AC 6', 'AC 7', 'AC 8', 'AC 9',\n",
      "       'AC 10', 'AC 11', 'AC 12', 'AC 13', 'AC 14', 'AC 15', 'AC 16', 'AC 17',\n",
      "       'AC 18', 'Date', 'Time'],\n",
      "      dtype='object')\n"
     ]
    }
   ],
   "source": [
    "index = df.columns\n",
    "print(index)"
   ]
  },
  {
   "cell_type": "markdown",
   "id": "3ce8d7e7",
   "metadata": {},
   "source": [
    "__Creating a new dataframe using aggregate function for finding the AC usage trends__"
   ]
  },
  {
   "cell_type": "code",
   "execution_count": 18,
   "id": "224466df",
   "metadata": {},
   "outputs": [],
   "source": [
    "## The total consumption of each day is added to find the total consumption for the day\n",
    "\n",
    "dk = df.groupby(\"Date\").sum()"
   ]
  },
  {
   "cell_type": "code",
   "execution_count": 19,
   "id": "7a983a66",
   "metadata": {},
   "outputs": [
    {
     "data": {
      "text/html": [
       "<div>\n",
       "<style scoped>\n",
       "    .dataframe tbody tr th:only-of-type {\n",
       "        vertical-align: middle;\n",
       "    }\n",
       "\n",
       "    .dataframe tbody tr th {\n",
       "        vertical-align: top;\n",
       "    }\n",
       "\n",
       "    .dataframe thead th {\n",
       "        text-align: right;\n",
       "    }\n",
       "</style>\n",
       "<table border=\"1\" class=\"dataframe\">\n",
       "  <thead>\n",
       "    <tr style=\"text-align: right;\">\n",
       "      <th></th>\n",
       "      <th>AC 1</th>\n",
       "      <th>AC 2</th>\n",
       "      <th>AC 3</th>\n",
       "      <th>AC 4</th>\n",
       "      <th>AC 5</th>\n",
       "      <th>AC 6</th>\n",
       "      <th>AC 7</th>\n",
       "      <th>AC 8</th>\n",
       "      <th>AC 9</th>\n",
       "      <th>AC 10</th>\n",
       "      <th>AC 11</th>\n",
       "      <th>AC 12</th>\n",
       "      <th>AC 13</th>\n",
       "      <th>AC 14</th>\n",
       "      <th>AC 15</th>\n",
       "      <th>AC 16</th>\n",
       "      <th>AC 17</th>\n",
       "      <th>AC 18</th>\n",
       "    </tr>\n",
       "    <tr>\n",
       "      <th>Date</th>\n",
       "      <th></th>\n",
       "      <th></th>\n",
       "      <th></th>\n",
       "      <th></th>\n",
       "      <th></th>\n",
       "      <th></th>\n",
       "      <th></th>\n",
       "      <th></th>\n",
       "      <th></th>\n",
       "      <th></th>\n",
       "      <th></th>\n",
       "      <th></th>\n",
       "      <th></th>\n",
       "      <th></th>\n",
       "      <th></th>\n",
       "      <th></th>\n",
       "      <th></th>\n",
       "      <th></th>\n",
       "    </tr>\n",
       "  </thead>\n",
       "  <tbody>\n",
       "    <tr>\n",
       "      <th>2019-08-01</th>\n",
       "      <td>3057.995528</td>\n",
       "      <td>5059.999511</td>\n",
       "      <td>1593.947741</td>\n",
       "      <td>2325.764737</td>\n",
       "      <td>1020.175948</td>\n",
       "      <td>1985.364315</td>\n",
       "      <td>1831.997810</td>\n",
       "      <td>2302.206125</td>\n",
       "      <td>1595.684806</td>\n",
       "      <td>1244.336753</td>\n",
       "      <td>1268.675948</td>\n",
       "      <td>1779.175408</td>\n",
       "      <td>3304.251956</td>\n",
       "      <td>2166.439514</td>\n",
       "      <td>3028.555717</td>\n",
       "      <td>2561.444699</td>\n",
       "      <td>3268.643699</td>\n",
       "      <td>5317.220293</td>\n",
       "    </tr>\n",
       "    <tr>\n",
       "      <th>2019-08-02</th>\n",
       "      <td>2808.680368</td>\n",
       "      <td>3531.951039</td>\n",
       "      <td>2044.310566</td>\n",
       "      <td>2226.627257</td>\n",
       "      <td>1157.040178</td>\n",
       "      <td>1654.758755</td>\n",
       "      <td>1647.026878</td>\n",
       "      <td>1045.513994</td>\n",
       "      <td>1853.368826</td>\n",
       "      <td>1246.985911</td>\n",
       "      <td>1417.147574</td>\n",
       "      <td>1963.794064</td>\n",
       "      <td>3606.126926</td>\n",
       "      <td>1652.137145</td>\n",
       "      <td>3153.683301</td>\n",
       "      <td>2424.806107</td>\n",
       "      <td>3127.669674</td>\n",
       "      <td>5474.652081</td>\n",
       "    </tr>\n",
       "    <tr>\n",
       "      <th>2019-08-03</th>\n",
       "      <td>2299.044380</td>\n",
       "      <td>3030.513118</td>\n",
       "      <td>2067.223618</td>\n",
       "      <td>1340.909484</td>\n",
       "      <td>968.902005</td>\n",
       "      <td>1803.619528</td>\n",
       "      <td>2252.057113</td>\n",
       "      <td>914.561485</td>\n",
       "      <td>1948.012235</td>\n",
       "      <td>1033.231280</td>\n",
       "      <td>1545.638030</td>\n",
       "      <td>2180.344723</td>\n",
       "      <td>3397.414574</td>\n",
       "      <td>1318.043113</td>\n",
       "      <td>3156.538647</td>\n",
       "      <td>2071.551159</td>\n",
       "      <td>3091.382795</td>\n",
       "      <td>5554.673461</td>\n",
       "    </tr>\n",
       "    <tr>\n",
       "      <th>2019-08-04</th>\n",
       "      <td>2893.893729</td>\n",
       "      <td>3068.529241</td>\n",
       "      <td>1804.586764</td>\n",
       "      <td>1080.564477</td>\n",
       "      <td>1072.481764</td>\n",
       "      <td>2490.482007</td>\n",
       "      <td>1965.427474</td>\n",
       "      <td>1098.371123</td>\n",
       "      <td>1759.855562</td>\n",
       "      <td>1189.007473</td>\n",
       "      <td>1286.969300</td>\n",
       "      <td>2123.903320</td>\n",
       "      <td>3455.182462</td>\n",
       "      <td>1549.923043</td>\n",
       "      <td>3237.312583</td>\n",
       "      <td>2025.092324</td>\n",
       "      <td>3146.422670</td>\n",
       "      <td>5777.808988</td>\n",
       "    </tr>\n",
       "    <tr>\n",
       "      <th>2019-08-05</th>\n",
       "      <td>2481.213702</td>\n",
       "      <td>2804.836697</td>\n",
       "      <td>1240.237944</td>\n",
       "      <td>634.250077</td>\n",
       "      <td>1167.370031</td>\n",
       "      <td>2644.557386</td>\n",
       "      <td>1733.026706</td>\n",
       "      <td>1145.953278</td>\n",
       "      <td>1809.435766</td>\n",
       "      <td>991.375489</td>\n",
       "      <td>2347.134169</td>\n",
       "      <td>2178.167291</td>\n",
       "      <td>2906.306483</td>\n",
       "      <td>1948.156037</td>\n",
       "      <td>3487.697781</td>\n",
       "      <td>2412.693734</td>\n",
       "      <td>2654.863101</td>\n",
       "      <td>4265.814987</td>\n",
       "    </tr>\n",
       "  </tbody>\n",
       "</table>\n",
       "</div>"
      ],
      "text/plain": [
       "                   AC 1         AC 2         AC 3         AC 4         AC 5  \\\n",
       "Date                                                                          \n",
       "2019-08-01  3057.995528  5059.999511  1593.947741  2325.764737  1020.175948   \n",
       "2019-08-02  2808.680368  3531.951039  2044.310566  2226.627257  1157.040178   \n",
       "2019-08-03  2299.044380  3030.513118  2067.223618  1340.909484   968.902005   \n",
       "2019-08-04  2893.893729  3068.529241  1804.586764  1080.564477  1072.481764   \n",
       "2019-08-05  2481.213702  2804.836697  1240.237944   634.250077  1167.370031   \n",
       "\n",
       "                   AC 6         AC 7         AC 8         AC 9        AC 10  \\\n",
       "Date                                                                          \n",
       "2019-08-01  1985.364315  1831.997810  2302.206125  1595.684806  1244.336753   \n",
       "2019-08-02  1654.758755  1647.026878  1045.513994  1853.368826  1246.985911   \n",
       "2019-08-03  1803.619528  2252.057113   914.561485  1948.012235  1033.231280   \n",
       "2019-08-04  2490.482007  1965.427474  1098.371123  1759.855562  1189.007473   \n",
       "2019-08-05  2644.557386  1733.026706  1145.953278  1809.435766   991.375489   \n",
       "\n",
       "                  AC 11        AC 12        AC 13        AC 14        AC 15  \\\n",
       "Date                                                                          \n",
       "2019-08-01  1268.675948  1779.175408  3304.251956  2166.439514  3028.555717   \n",
       "2019-08-02  1417.147574  1963.794064  3606.126926  1652.137145  3153.683301   \n",
       "2019-08-03  1545.638030  2180.344723  3397.414574  1318.043113  3156.538647   \n",
       "2019-08-04  1286.969300  2123.903320  3455.182462  1549.923043  3237.312583   \n",
       "2019-08-05  2347.134169  2178.167291  2906.306483  1948.156037  3487.697781   \n",
       "\n",
       "                  AC 16        AC 17        AC 18  \n",
       "Date                                               \n",
       "2019-08-01  2561.444699  3268.643699  5317.220293  \n",
       "2019-08-02  2424.806107  3127.669674  5474.652081  \n",
       "2019-08-03  2071.551159  3091.382795  5554.673461  \n",
       "2019-08-04  2025.092324  3146.422670  5777.808988  \n",
       "2019-08-05  2412.693734  2654.863101  4265.814987  "
      ]
     },
     "execution_count": 19,
     "metadata": {},
     "output_type": "execute_result"
    }
   ],
   "source": [
    "dk.head()"
   ]
  },
  {
   "cell_type": "code",
   "execution_count": 20,
   "id": "80f64ebe",
   "metadata": {},
   "outputs": [
    {
     "data": {
      "application/vnd.plotly.v1+json": {
       "config": {
        "plotlyServerURL": "https://plot.ly"
       },
       "data": [
        {
         "mode": "lines",
         "type": "scatter",
         "x": [
          "2019-08-01",
          "2019-08-02",
          "2019-08-03",
          "2019-08-04",
          "2019-08-05",
          "2019-08-06",
          "2019-08-07",
          "2019-08-08",
          "2019-08-09",
          "2019-08-10",
          "2019-08-11",
          "2019-08-12",
          "2019-08-13",
          "2019-08-14",
          "2019-08-24",
          "2019-08-25",
          "2019-08-26",
          "2019-08-27",
          "2019-08-28",
          "2019-08-29",
          "2019-08-30",
          "2019-08-31",
          "2019-09-01",
          "2019-09-02",
          "2019-09-03",
          "2019-09-04",
          "2019-09-05",
          "2019-09-06",
          "2019-09-07",
          "2019-09-08",
          "2019-09-09",
          "2019-09-10",
          "2019-09-11",
          "2019-09-12",
          "2019-09-13",
          "2019-09-14",
          "2019-09-15",
          "2019-09-16",
          "2019-09-17",
          "2019-09-18",
          "2019-09-19",
          "2019-09-20",
          "2019-09-21",
          "2019-09-22",
          "2019-09-23",
          "2019-09-24",
          "2019-09-25",
          "2019-09-26",
          "2019-09-27",
          "2019-09-28",
          "2019-09-29",
          "2019-09-30"
         ],
         "xaxis": "x",
         "y": [
          3057.995527938962,
          2808.680367935287,
          2299.0443803864805,
          2893.8937290955605,
          2481.2137022399584,
          2387.9822991028445,
          2268.3006533508315,
          3508.0932742615432,
          2430.793115135163,
          919.2992921447648,
          737.7664163818059,
          540.1412588959581,
          37.64748596193,
          0,
          48.251535095218,
          0,
          12.2036217041,
          1272.349212951688,
          3210.159222351121,
          2583.3899449005785,
          1743.6329252931216,
          2243.6273791656854,
          1669.3125358963448,
          673.6930696564054,
          0,
          0,
          378.7751744995248,
          1344.068986740053,
          1372.5053460540248,
          358.877405319176,
          15.959357025145,
          911.9516123046905,
          2607.8331287537903,
          848.1981747436471,
          2579.3094253235136,
          1485.5014298096512,
          1951.8518730622125,
          3494.3567279970507,
          3512.540729827933,
          2474.5602668152997,
          2908.129154785308,
          2578.7010021363267,
          1137.747013965602,
          714.1422307129168,
          1514.116967834553,
          1932.1541243897168,
          2153.22448614504,
          2474.8300421448726,
          1617.7456224365183,
          830.1526431884881,
          799.6758560333329,
          1111.6651787872697
         ],
         "yaxis": "y"
        },
        {
         "mode": "lines",
         "type": "scatter",
         "x": [
          "2019-08-01",
          "2019-08-02",
          "2019-08-03",
          "2019-08-04",
          "2019-08-05",
          "2019-08-06",
          "2019-08-07",
          "2019-08-08",
          "2019-08-09",
          "2019-08-10",
          "2019-08-11",
          "2019-08-12",
          "2019-08-13",
          "2019-08-14",
          "2019-08-24",
          "2019-08-25",
          "2019-08-26",
          "2019-08-27",
          "2019-08-28",
          "2019-08-29",
          "2019-08-30",
          "2019-08-31",
          "2019-09-01",
          "2019-09-02",
          "2019-09-03",
          "2019-09-04",
          "2019-09-05",
          "2019-09-06",
          "2019-09-07",
          "2019-09-08",
          "2019-09-09",
          "2019-09-10",
          "2019-09-11",
          "2019-09-12",
          "2019-09-13",
          "2019-09-14",
          "2019-09-15",
          "2019-09-16",
          "2019-09-17",
          "2019-09-18",
          "2019-09-19",
          "2019-09-20",
          "2019-09-21",
          "2019-09-22",
          "2019-09-23",
          "2019-09-24",
          "2019-09-25",
          "2019-09-26",
          "2019-09-27",
          "2019-09-28",
          "2019-09-29",
          "2019-09-30"
         ],
         "xaxis": "x2",
         "y": [
          5059.99951123045,
          3531.951038910034,
          3030.513118286196,
          3068.5292412109984,
          2804.8366965334612,
          2456.4746448974497,
          2189.2737664794568,
          4737.449885360974,
          2594.573867553707,
          1778.768820953465,
          1690.995973480382,
          1597.1099403686335,
          67.357924011248,
          0,
          496.8942736816297,
          2858.121455963231,
          3113.83219251634,
          5239.254972412486,
          4103.6644115602285,
          4334.207951721317,
          4080.5281423494503,
          3978.543543457221,
          2894.9567283935417,
          2297.355260131858,
          1026.67076583853,
          833.672210174607,
          1221.1090144272298,
          1403.2122711945087,
          1961.8691281738988,
          2446.914808990464,
          2628.776770141653,
          2989.4806372071102,
          2625.7341759646306,
          1878.5546572265891,
          4635.677937729071,
          2434.5068534546813,
          3028.298977203411,
          4410.3048883517595,
          4234.106084686437,
          3532.462441833592,
          3186.962706421032,
          1848.778203064,
          1034.0071046752582,
          693.1549651870826,
          433.5843227195958,
          2817.952224563677,
          3295.3026697998735,
          2946.4935888061577,
          2308.4464876708826,
          2258.758163772657,
          1664.4257542114217,
          2351.6794298402274
         ],
         "yaxis": "y2"
        },
        {
         "mode": "lines",
         "type": "scatter",
         "x": [
          "2019-08-01",
          "2019-08-02",
          "2019-08-03",
          "2019-08-04",
          "2019-08-05",
          "2019-08-06",
          "2019-08-07",
          "2019-08-08",
          "2019-08-09",
          "2019-08-10",
          "2019-08-11",
          "2019-08-12",
          "2019-08-13",
          "2019-08-14",
          "2019-08-24",
          "2019-08-25",
          "2019-08-26",
          "2019-08-27",
          "2019-08-28",
          "2019-08-29",
          "2019-08-30",
          "2019-08-31",
          "2019-09-01",
          "2019-09-02",
          "2019-09-03",
          "2019-09-04",
          "2019-09-05",
          "2019-09-06",
          "2019-09-07",
          "2019-09-08",
          "2019-09-09",
          "2019-09-10",
          "2019-09-11",
          "2019-09-12",
          "2019-09-13",
          "2019-09-14",
          "2019-09-15",
          "2019-09-16",
          "2019-09-17",
          "2019-09-18",
          "2019-09-19",
          "2019-09-20",
          "2019-09-21",
          "2019-09-22",
          "2019-09-23",
          "2019-09-24",
          "2019-09-25",
          "2019-09-26",
          "2019-09-27",
          "2019-09-28",
          "2019-09-29",
          "2019-09-30"
         ],
         "xaxis": "x3",
         "y": [
          1593.947740875293,
          2044.3105656052799,
          2067.2236182710353,
          1804.5867644500834,
          1240.237943679798,
          1489.228836898903,
          1133.5039332124018,
          2635.647760010118,
          2518.8255235596894,
          1488.3029810639791,
          1785.6239935151928,
          1424.181461135938,
          840.1586914215058,
          395.18738208007693,
          317.3551833495901,
          2253.9414554442187,
          1895.6904118652697,
          1323.8022018737165,
          1699.5370144652097,
          1771.6924692991918,
          1370.3858927306037,
          729.781683105426,
          680.5896163636162,
          1244.3266186828528,
          944.0636056060963,
          774.4120540161068,
          707.6152652283484,
          998.4672382201876,
          1606.0979484559698,
          1079.591698425346,
          1869.8038757935117,
          2850.1579390259935,
          2362.549602386588,
          1389.31065567017,
          2642.9765819244517,
          2169.3583000490216,
          1937.3591652222542,
          2609.562640075677,
          2947.2434475862437,
          2578.365322586005,
          1991.2603823243019,
          2383.1057149658504,
          2647.03089859031,
          2265.8615438843417,
          1036.3715443267777,
          1657.9791755677631,
          1817.321153091496,
          1880.952772407632,
          1167.2096437989117,
          1302.8014489747025,
          1621.720536987337,
          1781.1452339478692
         ],
         "yaxis": "y3"
        },
        {
         "mode": "lines",
         "type": "scatter",
         "x": [
          "2019-08-01",
          "2019-08-02",
          "2019-08-03",
          "2019-08-04",
          "2019-08-05",
          "2019-08-06",
          "2019-08-07",
          "2019-08-08",
          "2019-08-09",
          "2019-08-10",
          "2019-08-11",
          "2019-08-12",
          "2019-08-13",
          "2019-08-14",
          "2019-08-24",
          "2019-08-25",
          "2019-08-26",
          "2019-08-27",
          "2019-08-28",
          "2019-08-29",
          "2019-08-30",
          "2019-08-31",
          "2019-09-01",
          "2019-09-02",
          "2019-09-03",
          "2019-09-04",
          "2019-09-05",
          "2019-09-06",
          "2019-09-07",
          "2019-09-08",
          "2019-09-09",
          "2019-09-10",
          "2019-09-11",
          "2019-09-12",
          "2019-09-13",
          "2019-09-14",
          "2019-09-15",
          "2019-09-16",
          "2019-09-17",
          "2019-09-18",
          "2019-09-19",
          "2019-09-20",
          "2019-09-21",
          "2019-09-22",
          "2019-09-23",
          "2019-09-24",
          "2019-09-25",
          "2019-09-26",
          "2019-09-27",
          "2019-09-28",
          "2019-09-29",
          "2019-09-30"
         ],
         "xaxis": "x4",
         "y": [
          2325.764736858437,
          2226.627257064856,
          1340.9094842071947,
          1080.5644772261967,
          634.2500765076041,
          736.5040170211072,
          1412.0500465850293,
          2116.902237533619,
          1411.1218477173015,
          1136.3612200318169,
          825.2331504974221,
          1005.9126396026987,
          0,
          0.003161884874109,
          293.0635606689199,
          2004.6895190430607,
          2265.6798350372605,
          3269.143174316553,
          2255.248076294043,
          2547.6924127503526,
          2214.3998507843316,
          2138.0122930908615,
          1884.539876248863,
          1875.0147619323634,
          1428.9665893858644,
          1642.3949347076455,
          1376.563210761963,
          2040.422262237533,
          1662.2976120911471,
          783.278090506336,
          719.9923162353052,
          1662.9466923829918,
          3198.72773852553,
          1309.1159929199703,
          1668.1371869658435,
          654.816194702113,
          977.2984000441027,
          1222.1131188373627,
          2729.973145324942,
          2191.2006786500906,
          2252.413966842722,
          1456.5114146880576,
          1315.4646478729628,
          869.541238144019,
          629.3331633376915,
          1707.250906677377,
          2004.257801513701,
          2391.9096659011243,
          1847.3888320083504,
          1065.4043834533522,
          1209.0161550293756,
          1120.3381787949984
         ],
         "yaxis": "y4"
        },
        {
         "mode": "lines",
         "type": "scatter",
         "x": [
          "2019-08-01",
          "2019-08-02",
          "2019-08-03",
          "2019-08-04",
          "2019-08-05",
          "2019-08-06",
          "2019-08-07",
          "2019-08-08",
          "2019-08-09",
          "2019-08-10",
          "2019-08-11",
          "2019-08-12",
          "2019-08-13",
          "2019-08-14",
          "2019-08-24",
          "2019-08-25",
          "2019-08-26",
          "2019-08-27",
          "2019-08-28",
          "2019-08-29",
          "2019-08-30",
          "2019-08-31",
          "2019-09-01",
          "2019-09-02",
          "2019-09-03",
          "2019-09-04",
          "2019-09-05",
          "2019-09-06",
          "2019-09-07",
          "2019-09-08",
          "2019-09-09",
          "2019-09-10",
          "2019-09-11",
          "2019-09-12",
          "2019-09-13",
          "2019-09-14",
          "2019-09-15",
          "2019-09-16",
          "2019-09-17",
          "2019-09-18",
          "2019-09-19",
          "2019-09-20",
          "2019-09-21",
          "2019-09-22",
          "2019-09-23",
          "2019-09-24",
          "2019-09-25",
          "2019-09-26",
          "2019-09-27",
          "2019-09-28",
          "2019-09-29",
          "2019-09-30"
         ],
         "xaxis": "x5",
         "y": [
          1020.1759483489565,
          1157.0401775208013,
          968.902005401505,
          1072.4817641602785,
          1167.3700309296257,
          1084.38883004762,
          747.217596145591,
          861.891357177735,
          874.0432848968776,
          1333.2620952453244,
          940.8660917969204,
          653.072690322838,
          449.06081230926986,
          286.3136478881169,
          131.51693072510304,
          844.5738565674055,
          1140.5492562712732,
          1000.9059025727838,
          937.6972546692289,
          1062.5931700973633,
          1061.175579010041,
          1422.09875594319,
          1183.7456431578055,
          1085.3378744354338,
          1206.1497976074552,
          1236.8474805907306,
          890.3685590210376,
          1203.766329162688,
          1122.727180480993,
          1502.610942932282,
          1223.0300986861291,
          1101.0653080749532,
          1158.734600402898,
          519.5160062866277,
          1105.4269655457658,
          1125.8999982452392,
          1074.2372434083306,
          1083.2595235291358,
          1185.2223960418505,
          920.2212019807226,
          988.4576552734741,
          943.4012133636232,
          1077.2576012727332,
          986.3436289062713,
          819.628723388738,
          880.7090740508363,
          1007.4152129364251,
          1024.573901428253,
          627.0996636199764,
          911.4317599334761,
          718.8436875458593,
          670.0435881500963
         ],
         "yaxis": "y5"
        },
        {
         "mode": "lines",
         "type": "scatter",
         "x": [
          "2019-08-01",
          "2019-08-02",
          "2019-08-03",
          "2019-08-04",
          "2019-08-05",
          "2019-08-06",
          "2019-08-07",
          "2019-08-08",
          "2019-08-09",
          "2019-08-10",
          "2019-08-11",
          "2019-08-12",
          "2019-08-13",
          "2019-08-14",
          "2019-08-24",
          "2019-08-25",
          "2019-08-26",
          "2019-08-27",
          "2019-08-28",
          "2019-08-29",
          "2019-08-30",
          "2019-08-31",
          "2019-09-01",
          "2019-09-02",
          "2019-09-03",
          "2019-09-04",
          "2019-09-05",
          "2019-09-06",
          "2019-09-07",
          "2019-09-08",
          "2019-09-09",
          "2019-09-10",
          "2019-09-11",
          "2019-09-12",
          "2019-09-13",
          "2019-09-14",
          "2019-09-15",
          "2019-09-16",
          "2019-09-17",
          "2019-09-18",
          "2019-09-19",
          "2019-09-20",
          "2019-09-21",
          "2019-09-22",
          "2019-09-23",
          "2019-09-24",
          "2019-09-25",
          "2019-09-26",
          "2019-09-27",
          "2019-09-28",
          "2019-09-29",
          "2019-09-30"
         ],
         "xaxis": "x6",
         "y": [
          1985.3643145064846,
          1654.7587550659337,
          1803.61952825941,
          2490.4820074159616,
          2644.557386200185,
          1834.1599510498452,
          1080.7520754852274,
          2123.97945611583,
          1763.847890075852,
          2531.5670731507107,
          1888.6182314147256,
          1073.605339202872,
          645.2434629366235,
          545.84674835969,
          126.22881683348596,
          1899.7924089661446,
          1716.3168279648387,
          1908.33629106134,
          2270.1622695771275,
          2254.6056504745725,
          2098.2203604278916,
          1926.2143927003024,
          1458.6808290254485,
          1885.2966578063715,
          1875.7059038391242,
          2157.921082641776,
          2348.3398393708007,
          2297.1174196474126,
          2152.9576227188873,
          2869.705277648918,
          2048.527497192453,
          2461.3470527343684,
          2190.6121314088273,
          694.9838776779128,
          2312.637980896159,
          2191.386084854314,
          2681.5024440154425,
          2145.9894002076085,
          2063.130371307508,
          2073.2314404603458,
          1854.291357414354,
          1848.8722471770527,
          1775.705314697194,
          1052.1778157271476,
          1240.180476661697,
          1984.335514587527,
          1900.491908462629,
          1633.5357417909415,
          1663.5729590149351,
          1524.0970772706173,
          701.515963027956,
          493.16602275080214
         ],
         "yaxis": "y6"
        },
        {
         "mode": "lines",
         "type": "scatter",
         "x": [
          "2019-08-01",
          "2019-08-02",
          "2019-08-03",
          "2019-08-04",
          "2019-08-05",
          "2019-08-06",
          "2019-08-07",
          "2019-08-08",
          "2019-08-09",
          "2019-08-10",
          "2019-08-11",
          "2019-08-12",
          "2019-08-13",
          "2019-08-14",
          "2019-08-24",
          "2019-08-25",
          "2019-08-26",
          "2019-08-27",
          "2019-08-28",
          "2019-08-29",
          "2019-08-30",
          "2019-08-31",
          "2019-09-01",
          "2019-09-02",
          "2019-09-03",
          "2019-09-04",
          "2019-09-05",
          "2019-09-06",
          "2019-09-07",
          "2019-09-08",
          "2019-09-09",
          "2019-09-10",
          "2019-09-11",
          "2019-09-12",
          "2019-09-13",
          "2019-09-14",
          "2019-09-15",
          "2019-09-16",
          "2019-09-17",
          "2019-09-18",
          "2019-09-19",
          "2019-09-20",
          "2019-09-21",
          "2019-09-22",
          "2019-09-23",
          "2019-09-24",
          "2019-09-25",
          "2019-09-26",
          "2019-09-27",
          "2019-09-28",
          "2019-09-29",
          "2019-09-30"
         ],
         "xaxis": "x7",
         "y": [
          1831.9978095473743,
          1647.026878143288,
          2252.057113403444,
          1965.427473571815,
          1733.0267061615139,
          1693.7535323487014,
          2010.0886148072798,
          2096.728949493519,
          2161.2379882507157,
          2310.9961890717477,
          2288.1634251709934,
          2672.996286560173,
          1514.6347158965957,
          917.2277796021718,
          206.144297973643,
          1918.953084777919,
          2275.2227599030293,
          2358.007438492001,
          1996.6128540955165,
          2544.3907020035467,
          2224.309083496183,
          2559.836384948772,
          2189.052332565424,
          2660.5772078551845,
          2398.86567474382,
          2199.570287494726,
          2338.4367990875894,
          2040.5450228730506,
          2766.024637313835,
          3306.505369049258,
          2762.4589407348567,
          2704.6774151611803,
          1813.8126866150199,
          501.2504727783401,
          1385.1678515016356,
          1380.0507007370393,
          2149.561980011112,
          1976.460843871967,
          2302.4027127686204,
          2574.684985107408,
          2309.168807861275,
          1861.5466181641393,
          2178.069515617406,
          1498.1322565842256,
          1266.4917132949915,
          1572.9830272064341,
          1886.298716476551,
          1457.1264036408502,
          1612.7849702606707,
          1300.9720675659005,
          1319.1019378053088,
          1133.7656036415215
         ],
         "yaxis": "y7"
        },
        {
         "mode": "lines",
         "type": "scatter",
         "x": [
          "2019-08-01",
          "2019-08-02",
          "2019-08-03",
          "2019-08-04",
          "2019-08-05",
          "2019-08-06",
          "2019-08-07",
          "2019-08-08",
          "2019-08-09",
          "2019-08-10",
          "2019-08-11",
          "2019-08-12",
          "2019-08-13",
          "2019-08-14",
          "2019-08-24",
          "2019-08-25",
          "2019-08-26",
          "2019-08-27",
          "2019-08-28",
          "2019-08-29",
          "2019-08-30",
          "2019-08-31",
          "2019-09-01",
          "2019-09-02",
          "2019-09-03",
          "2019-09-04",
          "2019-09-05",
          "2019-09-06",
          "2019-09-07",
          "2019-09-08",
          "2019-09-09",
          "2019-09-10",
          "2019-09-11",
          "2019-09-12",
          "2019-09-13",
          "2019-09-14",
          "2019-09-15",
          "2019-09-16",
          "2019-09-17",
          "2019-09-18",
          "2019-09-19",
          "2019-09-20",
          "2019-09-21",
          "2019-09-22",
          "2019-09-23",
          "2019-09-24",
          "2019-09-25",
          "2019-09-26",
          "2019-09-27",
          "2019-09-28",
          "2019-09-29",
          "2019-09-30"
         ],
         "xaxis": "x8",
         "y": [
          2302.206124832049,
          1045.5139943847175,
          914.5614846726236,
          1098.3711232758196,
          1145.953278128761,
          1154.8180216827848,
          1431.6670680847137,
          2279.736494812025,
          1822.3511665268736,
          2022.0097933503218,
          1991.357371856628,
          1459.1225187988282,
          1340.1284813232087,
          883.6533231201632,
          37.716948974599994,
          1098.9659879530172,
          2038.4790509492404,
          2164.292812133938,
          2031.1713190919809,
          2640.0890797730794,
          2246.5665699157685,
          2052.345536193971,
          1570.2198079834195,
          2290.5001069640516,
          2167.6402283325297,
          1826.2011257324343,
          2034.5335296327057,
          2384.711311828639,
          2168.9989632873903,
          1738.603101928808,
          1995.5507568359033,
          2332.46049758931,
          1653.4500164184772,
          894.830377548217,
          1754.6153205719363,
          1883.474837493937,
          1758.7297737046292,
          2138.02265246579,
          2389.5014075317968,
          1707.3570503540768,
          1521.4302683106414,
          1160.8177172852902,
          2000.2552071153077,
          1630.0498691102878,
          1560.416620239202,
          1833.2818777467398,
          1456.1354505463246,
          1614.6763642882606,
          2031.866470310241,
          1626.1732923737372,
          1113.0394757501701,
          1556.3110986786733
         ],
         "yaxis": "y8"
        },
        {
         "mode": "lines",
         "type": "scatter",
         "x": [
          "2019-08-01",
          "2019-08-02",
          "2019-08-03",
          "2019-08-04",
          "2019-08-05",
          "2019-08-06",
          "2019-08-07",
          "2019-08-08",
          "2019-08-09",
          "2019-08-10",
          "2019-08-11",
          "2019-08-12",
          "2019-08-13",
          "2019-08-14",
          "2019-08-24",
          "2019-08-25",
          "2019-08-26",
          "2019-08-27",
          "2019-08-28",
          "2019-08-29",
          "2019-08-30",
          "2019-08-31",
          "2019-09-01",
          "2019-09-02",
          "2019-09-03",
          "2019-09-04",
          "2019-09-05",
          "2019-09-06",
          "2019-09-07",
          "2019-09-08",
          "2019-09-09",
          "2019-09-10",
          "2019-09-11",
          "2019-09-12",
          "2019-09-13",
          "2019-09-14",
          "2019-09-15",
          "2019-09-16",
          "2019-09-17",
          "2019-09-18",
          "2019-09-19",
          "2019-09-20",
          "2019-09-21",
          "2019-09-22",
          "2019-09-23",
          "2019-09-24",
          "2019-09-25",
          "2019-09-26",
          "2019-09-27",
          "2019-09-28",
          "2019-09-29",
          "2019-09-30"
         ],
         "xaxis": "x9",
         "y": [
          1595.6848058624369,
          1853.3688258209506,
          1948.012234573354,
          1759.8555621949783,
          1809.435765991285,
          1655.4529381790837,
          1797.9365451050458,
          2318.8361033935207,
          1560.1591198425806,
          1669.4582354277086,
          2014.7237526169286,
          2019.4790453339735,
          1381.4391643143117,
          872.3908605347515,
          555.3897539063099,
          3113.2818551026685,
          2231.137984107963,
          2985.117467468432,
          2963.998643402459,
          3031.5425257111037,
          1885.3971051561193,
          2122.6060805664574,
          1809.2724069060623,
          2247.1457892457356,
          2752.7469881592174,
          2474.7934962006925,
          2136.2086377717574,
          1949.1043444977638,
          2311.1748148957095,
          3131.6223158570456,
          2781.8738264618646,
          2978.9941281737833,
          1743.2520466003205,
          893.1463212890799,
          2051.752401611504,
          1615.1136548920836,
          2262.460481872755,
          2772.92049548348,
          3129.2025413362835,
          2700.8217923586017,
          2338.1849963380705,
          1878.4686173097425,
          2079.622451126121,
          2084.4886837770355,
          2205.4752258301055,
          2294.29468725595,
          1884.0296041413085,
          2066.7601525878013,
          1707.976576767022,
          1698.3646304931358,
          1868.8567489853997,
          2126.6703782958934
         ],
         "yaxis": "y9"
        },
        {
         "mode": "lines",
         "type": "scatter",
         "x": [
          "2019-08-01",
          "2019-08-02",
          "2019-08-03",
          "2019-08-04",
          "2019-08-05",
          "2019-08-06",
          "2019-08-07",
          "2019-08-08",
          "2019-08-09",
          "2019-08-10",
          "2019-08-11",
          "2019-08-12",
          "2019-08-13",
          "2019-08-14",
          "2019-08-24",
          "2019-08-25",
          "2019-08-26",
          "2019-08-27",
          "2019-08-28",
          "2019-08-29",
          "2019-08-30",
          "2019-08-31",
          "2019-09-01",
          "2019-09-02",
          "2019-09-03",
          "2019-09-04",
          "2019-09-05",
          "2019-09-06",
          "2019-09-07",
          "2019-09-08",
          "2019-09-09",
          "2019-09-10",
          "2019-09-11",
          "2019-09-12",
          "2019-09-13",
          "2019-09-14",
          "2019-09-15",
          "2019-09-16",
          "2019-09-17",
          "2019-09-18",
          "2019-09-19",
          "2019-09-20",
          "2019-09-21",
          "2019-09-22",
          "2019-09-23",
          "2019-09-24",
          "2019-09-25",
          "2019-09-26",
          "2019-09-27",
          "2019-09-28",
          "2019-09-29",
          "2019-09-30"
         ],
         "xaxis": "x10",
         "y": [
          1244.3367530518126,
          1246.9859109344525,
          1033.2312804565634,
          1189.0074733888048,
          991.3754890747186,
          1064.393285949838,
          1131.723742599498,
          1001.7378051454416,
          1200.2791783218365,
          1128.2158437653136,
          1061.0157041396694,
          979.6240068206803,
          810.832453918459,
          534.6928480682002,
          143.35958038331202,
          970.268678474548,
          1357.96100410459,
          1344.9651279298164,
          1342.7456714248635,
          1429.6972915496997,
          1210.0171517105678,
          1164.3049881591867,
          1292.8989030762707,
          1015.3131288452329,
          930.450606353864,
          993.0438761978287,
          1068.6969629516998,
          900.2049494629708,
          1267.773962921167,
          1098.9580453719327,
          996.0093523866246,
          1143.6090429382652,
          1019.3993832703136,
          474.06325915527174,
          1106.9743591919662,
          886.3949900512984,
          1000.8170194473812,
          869.1758430252073,
          1101.8978636321665,
          1141.2331942138733,
          1003.4843885116964,
          955.2083981627978,
          907.3823265838301,
          1052.450526100161,
          882.5355044022336,
          849.1240185622507,
          1144.9986677856325,
          1029.9277328644307,
          886.9942610169013,
          903.7327723693999,
          970.3797976608536,
          853.7527307969335
         ],
         "yaxis": "y10"
        },
        {
         "mode": "lines",
         "type": "scatter",
         "x": [
          "2019-08-01",
          "2019-08-02",
          "2019-08-03",
          "2019-08-04",
          "2019-08-05",
          "2019-08-06",
          "2019-08-07",
          "2019-08-08",
          "2019-08-09",
          "2019-08-10",
          "2019-08-11",
          "2019-08-12",
          "2019-08-13",
          "2019-08-14",
          "2019-08-24",
          "2019-08-25",
          "2019-08-26",
          "2019-08-27",
          "2019-08-28",
          "2019-08-29",
          "2019-08-30",
          "2019-08-31",
          "2019-09-01",
          "2019-09-02",
          "2019-09-03",
          "2019-09-04",
          "2019-09-05",
          "2019-09-06",
          "2019-09-07",
          "2019-09-08",
          "2019-09-09",
          "2019-09-10",
          "2019-09-11",
          "2019-09-12",
          "2019-09-13",
          "2019-09-14",
          "2019-09-15",
          "2019-09-16",
          "2019-09-17",
          "2019-09-18",
          "2019-09-19",
          "2019-09-20",
          "2019-09-21",
          "2019-09-22",
          "2019-09-23",
          "2019-09-24",
          "2019-09-25",
          "2019-09-26",
          "2019-09-27",
          "2019-09-28",
          "2019-09-29",
          "2019-09-30"
         ],
         "xaxis": "x11",
         "y": [
          1268.6759475708284,
          1417.1475744628594,
          1545.6380295181523,
          1286.9693002014499,
          2347.134169441322,
          2018.393896202039,
          1739.963713028105,
          2300.72296772011,
          1832.007281089759,
          1455.040876525894,
          1404.0666213379463,
          1328.1238098144938,
          1171.855859863223,
          1119.9571667481086,
          261.81784228516005,
          1047.8973625793847,
          1010.5386508330714,
          1414.1813954163363,
          1850.513433197035,
          1899.5417493896618,
          2253.407447113002,
          2212.497373840356,
          1329.3162324676628,
          1023.8039206162807,
          1178.335094436745,
          1870.8650729829146,
          1460.625455490126,
          1644.2559306182964,
          2040.55566369623,
          2403.7040083008205,
          1664.5575555878518,
          2294.1013759766815,
          2278.007274963435,
          881.3050779419416,
          2118.37987957757,
          2170.1581838378906,
          2882.941580810586,
          2962.9427601930424,
          2850.8032330933356,
          2664.941612426922,
          1649.167892501875,
          1298.842240585398,
          1078.199893058883,
          1140.6220250550684,
          917.797315490793,
          1023.9290729675771,
          1317.7335853348973,
          2245.541327797023,
          1721.5209912721193,
          1266.1136401673468,
          1356.9905913390369,
          1203.4679386291639
         ],
         "yaxis": "y11"
        },
        {
         "mode": "lines",
         "type": "scatter",
         "x": [
          "2019-08-01",
          "2019-08-02",
          "2019-08-03",
          "2019-08-04",
          "2019-08-05",
          "2019-08-06",
          "2019-08-07",
          "2019-08-08",
          "2019-08-09",
          "2019-08-10",
          "2019-08-11",
          "2019-08-12",
          "2019-08-13",
          "2019-08-14",
          "2019-08-24",
          "2019-08-25",
          "2019-08-26",
          "2019-08-27",
          "2019-08-28",
          "2019-08-29",
          "2019-08-30",
          "2019-08-31",
          "2019-09-01",
          "2019-09-02",
          "2019-09-03",
          "2019-09-04",
          "2019-09-05",
          "2019-09-06",
          "2019-09-07",
          "2019-09-08",
          "2019-09-09",
          "2019-09-10",
          "2019-09-11",
          "2019-09-12",
          "2019-09-13",
          "2019-09-14",
          "2019-09-15",
          "2019-09-16",
          "2019-09-17",
          "2019-09-18",
          "2019-09-19",
          "2019-09-20",
          "2019-09-21",
          "2019-09-22",
          "2019-09-23",
          "2019-09-24",
          "2019-09-25",
          "2019-09-26",
          "2019-09-27",
          "2019-09-28",
          "2019-09-29",
          "2019-09-30"
         ],
         "xaxis": "x12",
         "y": [
          1779.175407760715,
          1963.7940644072878,
          2180.3447232055614,
          2123.903320312404,
          2178.167290527419,
          1627.371160583669,
          1671.5471274415484,
          2446.8917148362116,
          2154.50640197764,
          2012.5011313248608,
          2417.0578529053705,
          2117.8904849244022,
          1145.1572569580514,
          761.696529541078,
          223.06431494138002,
          1649.621010375939,
          1161.5322491760976,
          2407.761310890212,
          2134.7020191041356,
          2636.4710025787917,
          1998.5323000337635,
          2525.5700424805696,
          1878.1029851684477,
          2400.43046093749,
          2051.007756591824,
          1821.0636423949538,
          1871.1731279907096,
          2079.700427185236,
          1959.0187149659084,
          2028.9901590804905,
          1921.5589231568135,
          2310.0290879899185,
          1583.8766231689551,
          898.1299819336497,
          1644.8831098022563,
          1992.5941685180412,
          2121.579306442298,
          1742.5524022370228,
          2462.6789542848314,
          1979.3968176880066,
          2351.787911743188,
          2075.885686843965,
          2212.9155260620187,
          2073.3549306030786,
          1846.521048339927,
          1130.9528376618862,
          1699.6143682861311,
          1771.0532664566597,
          1790.46175186157,
          1598.4127394713596,
          1296.8433382722417,
          1639.0164043045909
         ],
         "yaxis": "y12"
        },
        {
         "mode": "lines",
         "type": "scatter",
         "x": [
          "2019-08-01",
          "2019-08-02",
          "2019-08-03",
          "2019-08-04",
          "2019-08-05",
          "2019-08-06",
          "2019-08-07",
          "2019-08-08",
          "2019-08-09",
          "2019-08-10",
          "2019-08-11",
          "2019-08-12",
          "2019-08-13",
          "2019-08-14",
          "2019-08-24",
          "2019-08-25",
          "2019-08-26",
          "2019-08-27",
          "2019-08-28",
          "2019-08-29",
          "2019-08-30",
          "2019-08-31",
          "2019-09-01",
          "2019-09-02",
          "2019-09-03",
          "2019-09-04",
          "2019-09-05",
          "2019-09-06",
          "2019-09-07",
          "2019-09-08",
          "2019-09-09",
          "2019-09-10",
          "2019-09-11",
          "2019-09-12",
          "2019-09-13",
          "2019-09-14",
          "2019-09-15",
          "2019-09-16",
          "2019-09-17",
          "2019-09-18",
          "2019-09-19",
          "2019-09-20",
          "2019-09-21",
          "2019-09-22",
          "2019-09-23",
          "2019-09-24",
          "2019-09-25",
          "2019-09-26",
          "2019-09-27",
          "2019-09-28",
          "2019-09-29",
          "2019-09-30"
         ],
         "xaxis": "x13",
         "y": [
          3304.2519556885677,
          3606.1269255828324,
          3397.414573730731,
          3455.182461914252,
          2906.306482650922,
          2310.053005920475,
          3227.0321180421365,
          4520.524020751958,
          3167.2690791932473,
          2701.8340371095724,
          2471.417633804375,
          1560.4494365234275,
          1180.9997624588189,
          1732.0693194581318,
          544.6040875244,
          3642.3638140870103,
          2636.326567184592,
          3329.002938781847,
          3458.2887630616597,
          3381.282367202722,
          2687.5946655885446,
          2748.812881957928,
          3102.2660284730396,
          2181.1287735215187,
          1882.006645477357,
          2709.8652026214295,
          2279.22170813004,
          3287.8458235474777,
          3815.375583374151,
          3408.032255004836,
          3519.103780746585,
          3724.4639716187385,
          2485.20246332548,
          1488.2724661865795,
          3586.0188735962697,
          3064.5245422210564,
          2830.3753728791617,
          3021.384933906655,
          3393.9061410218856,
          2995.6172563476116,
          4112.8130570680005,
          2713.5479186860016,
          2865.0941067964145,
          2516.782673263651,
          2946.4375636597597,
          3149.4588784485577,
          3375.6180942535775,
          3485.564985809455,
          2988.4661651612428,
          2226.0553309021484,
          2214.08844914237,
          2073.3284645997414
         ],
         "yaxis": "y13"
        },
        {
         "mode": "lines",
         "type": "scatter",
         "x": [
          "2019-08-01",
          "2019-08-02",
          "2019-08-03",
          "2019-08-04",
          "2019-08-05",
          "2019-08-06",
          "2019-08-07",
          "2019-08-08",
          "2019-08-09",
          "2019-08-10",
          "2019-08-11",
          "2019-08-12",
          "2019-08-13",
          "2019-08-14",
          "2019-08-24",
          "2019-08-25",
          "2019-08-26",
          "2019-08-27",
          "2019-08-28",
          "2019-08-29",
          "2019-08-30",
          "2019-08-31",
          "2019-09-01",
          "2019-09-02",
          "2019-09-03",
          "2019-09-04",
          "2019-09-05",
          "2019-09-06",
          "2019-09-07",
          "2019-09-08",
          "2019-09-09",
          "2019-09-10",
          "2019-09-11",
          "2019-09-12",
          "2019-09-13",
          "2019-09-14",
          "2019-09-15",
          "2019-09-16",
          "2019-09-17",
          "2019-09-18",
          "2019-09-19",
          "2019-09-20",
          "2019-09-21",
          "2019-09-22",
          "2019-09-23",
          "2019-09-24",
          "2019-09-25",
          "2019-09-26",
          "2019-09-27",
          "2019-09-28",
          "2019-09-29",
          "2019-09-30"
         ],
         "xaxis": "x14",
         "y": [
          2166.4395139159983,
          1652.1371454774844,
          1318.0431133117481,
          1549.9230427552363,
          1948.156036834659,
          2050.6142433471705,
          1999.1895218278414,
          2548.769584190457,
          1736.1959360963024,
          1836.3595202636413,
          1794.019525024462,
          1726.9544222412294,
          996.3781903381133,
          1048.0118014526724,
          336.62579705814983,
          2287.6705456544696,
          1978.300366043105,
          2357.674491577322,
          2576.2526297608783,
          1633.5299362184162,
          2015.588148376474,
          1871.1842919922476,
          1994.067627807629,
          1477.4426589736272,
          2050.126472656322,
          2614.846187072622,
          2626.95603356936,
          2911.407903808681,
          3141.6147548829354,
          3160.69997302264,
          2634.6247507324592,
          3011.9000522461583,
          2131.5738858489685,
          1074.62888500981,
          2021.1127830200985,
          2295.1405163573318,
          2174.23530688482,
          2315.580842529332,
          2398.3803067627205,
          2133.870536010825,
          1924.0692322389075,
          1690.9049671174016,
          1803.4944693605084,
          1294.9115296630398,
          1495.8593660278098,
          1664.1695142822211,
          1843.2974495850049,
          1995.541056335522,
          1911.0861724853708,
          1900.0487775880674,
          1627.5613508912754,
          1691.2886998901788
         ],
         "yaxis": "y14"
        },
        {
         "mode": "lines",
         "type": "scatter",
         "x": [
          "2019-08-01",
          "2019-08-02",
          "2019-08-03",
          "2019-08-04",
          "2019-08-05",
          "2019-08-06",
          "2019-08-07",
          "2019-08-08",
          "2019-08-09",
          "2019-08-10",
          "2019-08-11",
          "2019-08-12",
          "2019-08-13",
          "2019-08-14",
          "2019-08-24",
          "2019-08-25",
          "2019-08-26",
          "2019-08-27",
          "2019-08-28",
          "2019-08-29",
          "2019-08-30",
          "2019-08-31",
          "2019-09-01",
          "2019-09-02",
          "2019-09-03",
          "2019-09-04",
          "2019-09-05",
          "2019-09-06",
          "2019-09-07",
          "2019-09-08",
          "2019-09-09",
          "2019-09-10",
          "2019-09-11",
          "2019-09-12",
          "2019-09-13",
          "2019-09-14",
          "2019-09-15",
          "2019-09-16",
          "2019-09-17",
          "2019-09-18",
          "2019-09-19",
          "2019-09-20",
          "2019-09-21",
          "2019-09-22",
          "2019-09-23",
          "2019-09-24",
          "2019-09-25",
          "2019-09-26",
          "2019-09-27",
          "2019-09-28",
          "2019-09-29",
          "2019-09-30"
         ],
         "xaxis": "x15",
         "y": [
          3028.5557173463008,
          3153.6833013916685,
          3156.5386474457755,
          3237.3125828322795,
          3487.697781196438,
          3418.1531511307894,
          3128.5728184815243,
          3114.909685653809,
          3084.3248694459744,
          2743.7672586671615,
          4281.370522094883,
          3358.9633655092216,
          2477.4568248292007,
          1386.9186795045168,
          447.2317367248343,
          3442.389182907226,
          3291.3457202607046,
          2997.440769195614,
          4034.251605285745,
          3497.5423776397392,
          2687.7130671234936,
          2976.787312347464,
          2940.82047436535,
          1850.2891033020653,
          1609.5238472901397,
          1433.5442309570294,
          1513.7128762207212,
          1935.2363880157225,
          1026.9598398437615,
          2381.7307750702016,
          2212.125042358388,
          3622.242955566408,
          3236.2803712158416,
          1522.7404072266797,
          3439.6590689697496,
          2717.9871378784273,
          2887.972657837005,
          3474.060143982018,
          4291.53027600114,
          3393.177391113327,
          3813.9576945190647,
          2962.88981483455,
          2634.2979740982064,
          2124.442658081142,
          1742.1858764534402,
          2306.9661829682545,
          3187.542876953292,
          3181.7824557190615,
          2791.148602920572,
          2172.0618750916724,
          1959.0816018982373,
          2069.4552831420356
         ],
         "yaxis": "y15"
        },
        {
         "mode": "lines",
         "type": "scatter",
         "x": [
          "2019-08-01",
          "2019-08-02",
          "2019-08-03",
          "2019-08-04",
          "2019-08-05",
          "2019-08-06",
          "2019-08-07",
          "2019-08-08",
          "2019-08-09",
          "2019-08-10",
          "2019-08-11",
          "2019-08-12",
          "2019-08-13",
          "2019-08-14",
          "2019-08-24",
          "2019-08-25",
          "2019-08-26",
          "2019-08-27",
          "2019-08-28",
          "2019-08-29",
          "2019-08-30",
          "2019-08-31",
          "2019-09-01",
          "2019-09-02",
          "2019-09-03",
          "2019-09-04",
          "2019-09-05",
          "2019-09-06",
          "2019-09-07",
          "2019-09-08",
          "2019-09-09",
          "2019-09-10",
          "2019-09-11",
          "2019-09-12",
          "2019-09-13",
          "2019-09-14",
          "2019-09-15",
          "2019-09-16",
          "2019-09-17",
          "2019-09-18",
          "2019-09-19",
          "2019-09-20",
          "2019-09-21",
          "2019-09-22",
          "2019-09-23",
          "2019-09-24",
          "2019-09-25",
          "2019-09-26",
          "2019-09-27",
          "2019-09-28",
          "2019-09-29",
          "2019-09-30"
         ],
         "xaxis": "x16",
         "y": [
          2561.444699340946,
          2424.806107055771,
          2071.551159057686,
          2025.092323791542,
          2412.693734008811,
          1998.3102943498307,
          1961.7943703003684,
          2696.1603179779527,
          2204.865998703154,
          2001.9110874940102,
          1863.616390815887,
          1734.9693449174495,
          1710.1046978454617,
          1504.0595548096999,
          232.26690612792797,
          2211.02190707419,
          1860.6257811585253,
          2470.210130981649,
          2226.984544464162,
          2146.362032806412,
          2047.6397954712918,
          1903.7006236573482,
          1303.745599853512,
          963.6790530548735,
          898.2695122681043,
          1158.4895701599567,
          792.8465925599148,
          1290.386862682433,
          929.403337982228,
          1062.0744441604775,
          1798.8698965302785,
          2586.313493385455,
          2557.1761129151296,
          1266.0508526306965,
          2869.962126800678,
          1981.2631291847604,
          1722.8311150665668,
          2310.858905761811,
          2244.56086706566,
          2253.8088496858372,
          2340.1016140137094,
          1819.8745700683312,
          1654.5847688601148,
          2160.4163924256495,
          1943.9187094115541,
          2143.526265533466,
          1731.2370587311877,
          1823.2630733490098,
          1563.706727203459,
          1691.0556651001107,
          1355.9265103148944,
          1321.080695304901
         ],
         "yaxis": "y16"
        },
        {
         "mode": "lines",
         "type": "scatter",
         "x": [
          "2019-08-01",
          "2019-08-02",
          "2019-08-03",
          "2019-08-04",
          "2019-08-05",
          "2019-08-06",
          "2019-08-07",
          "2019-08-08",
          "2019-08-09",
          "2019-08-10",
          "2019-08-11",
          "2019-08-12",
          "2019-08-13",
          "2019-08-14",
          "2019-08-24",
          "2019-08-25",
          "2019-08-26",
          "2019-08-27",
          "2019-08-28",
          "2019-08-29",
          "2019-08-30",
          "2019-08-31",
          "2019-09-01",
          "2019-09-02",
          "2019-09-03",
          "2019-09-04",
          "2019-09-05",
          "2019-09-06",
          "2019-09-07",
          "2019-09-08",
          "2019-09-09",
          "2019-09-10",
          "2019-09-11",
          "2019-09-12",
          "2019-09-13",
          "2019-09-14",
          "2019-09-15",
          "2019-09-16",
          "2019-09-17",
          "2019-09-18",
          "2019-09-19",
          "2019-09-20",
          "2019-09-21",
          "2019-09-22",
          "2019-09-23",
          "2019-09-24",
          "2019-09-25",
          "2019-09-26",
          "2019-09-27",
          "2019-09-28",
          "2019-09-29",
          "2019-09-30"
         ],
         "xaxis": "x17",
         "y": [
          3268.6436985475157,
          3127.669673706142,
          3091.3827945557036,
          3146.422669616857,
          2654.8631013794597,
          2606.955250305153,
          2402.061855682309,
          2850.3079552614527,
          2655.192889892621,
          2957.3436437226333,
          2666.3432674561222,
          2936.4409259034974,
          2065.5679583130755,
          1187.7758446350151,
          464.28808398439,
          2772.3713405762883,
          2573.236728454642,
          3029.523745727668,
          2738.997191467344,
          3273.861313522383,
          2994.0327479554503,
          3157.749459533784,
          2979.183371460179,
          3059.29325292985,
          3196.644723632858,
          3197.727867065498,
          2984.6284773561315,
          2929.319674255465,
          3076.807962158229,
          3304.74285803217,
          3119.18206762701,
          3183.540723510851,
          2793.071372253595,
          1378.30112683109,
          3129.4270422668833,
          3193.990500000082,
          3045.4179339601183,
          3424.2219308472504,
          2912.3778765869806,
          3264.5301385500293,
          3183.5359664918187,
          3011.0107827149013,
          2993.731207191511,
          3088.8858714599533,
          3143.732097900561,
          2877.868849365359,
          3105.9849973755913,
          3074.3282437135576,
          3006.5523500976747,
          2257.1049827271117,
          2432.599820129436,
          2437.062607421831
         ],
         "yaxis": "y17"
        },
        {
         "mode": "lines",
         "type": "scatter",
         "x": [
          "2019-08-01",
          "2019-08-02",
          "2019-08-03",
          "2019-08-04",
          "2019-08-05",
          "2019-08-06",
          "2019-08-07",
          "2019-08-08",
          "2019-08-09",
          "2019-08-10",
          "2019-08-11",
          "2019-08-12",
          "2019-08-13",
          "2019-08-14",
          "2019-08-24",
          "2019-08-25",
          "2019-08-26",
          "2019-08-27",
          "2019-08-28",
          "2019-08-29",
          "2019-08-30",
          "2019-08-31",
          "2019-09-01",
          "2019-09-02",
          "2019-09-03",
          "2019-09-04",
          "2019-09-05",
          "2019-09-06",
          "2019-09-07",
          "2019-09-08",
          "2019-09-09",
          "2019-09-10",
          "2019-09-11",
          "2019-09-12",
          "2019-09-13",
          "2019-09-14",
          "2019-09-15",
          "2019-09-16",
          "2019-09-17",
          "2019-09-18",
          "2019-09-19",
          "2019-09-20",
          "2019-09-21",
          "2019-09-22",
          "2019-09-23",
          "2019-09-24",
          "2019-09-25",
          "2019-09-26",
          "2019-09-27",
          "2019-09-28",
          "2019-09-29",
          "2019-09-30"
         ],
         "xaxis": "x18",
         "y": [
          5317.220292847015,
          5474.652081359996,
          5554.67346069348,
          5777.8089884035335,
          4265.814987228461,
          4859.851874633867,
          4253.88839147959,
          4453.461934784096,
          4727.626016357564,
          4636.154080444377,
          4150.3619272461665,
          4661.57119055201,
          3388.2189060060573,
          1763.8002985839903,
          842.5162414550599,
          4583.368013183745,
          3782.147587158269,
          3814.50765991227,
          3759.629435546995,
          4395.654824951308,
          3803.7495841065092,
          4276.141558426142,
          4535.802711914136,
          4707.219728759916,
          4141.098248291053,
          4114.05997546406,
          4060.6407370606585,
          3949.61831930554,
          5299.024725097847,
          4552.171012207223,
          3931.97755908216,
          4055.1042292481793,
          3397.6306223145593,
          1953.458096679719,
          4561.586776931856,
          4811.888045532385,
          4615.411991699422,
          4947.087547119192,
          4418.2990568848545,
          5089.810139648593,
          4965.886304199345,
          4404.097537719787,
          4644.564399414248,
          5875.778730224847,
          5490.615250000219,
          3748.117164489779,
          4594.837805053785,
          4526.7345107576175,
          4849.633471313602,
          2952.1675234376357,
          3906.844094452034,
          3929.0904291992765
         ],
         "yaxis": "y18"
        }
       ],
       "layout": {
        "annotations": [
         {
          "font": {
           "size": 16
          },
          "showarrow": false,
          "text": "AC 1",
          "x": 0.225,
          "xanchor": "center",
          "xref": "paper",
          "y": 1,
          "yanchor": "bottom",
          "yref": "paper"
         },
         {
          "font": {
           "size": 16
          },
          "showarrow": false,
          "text": "AC 2",
          "x": 0.775,
          "xanchor": "center",
          "xref": "paper",
          "y": 1,
          "yanchor": "bottom",
          "yref": "paper"
         },
         {
          "font": {
           "size": 16
          },
          "showarrow": false,
          "text": "AC 3",
          "x": 0.225,
          "xanchor": "center",
          "xref": "paper",
          "y": 0.8827160493827161,
          "yanchor": "bottom",
          "yref": "paper"
         },
         {
          "font": {
           "size": 16
          },
          "showarrow": false,
          "text": "AC 4",
          "x": 0.775,
          "xanchor": "center",
          "xref": "paper",
          "y": 0.8827160493827161,
          "yanchor": "bottom",
          "yref": "paper"
         },
         {
          "font": {
           "size": 16
          },
          "showarrow": false,
          "text": "AC 5",
          "x": 0.225,
          "xanchor": "center",
          "xref": "paper",
          "y": 0.7654320987654322,
          "yanchor": "bottom",
          "yref": "paper"
         },
         {
          "font": {
           "size": 16
          },
          "showarrow": false,
          "text": "AC 6",
          "x": 0.775,
          "xanchor": "center",
          "xref": "paper",
          "y": 0.7654320987654322,
          "yanchor": "bottom",
          "yref": "paper"
         },
         {
          "font": {
           "size": 16
          },
          "showarrow": false,
          "text": "AC 7",
          "x": 0.225,
          "xanchor": "center",
          "xref": "paper",
          "y": 0.6481481481481483,
          "yanchor": "bottom",
          "yref": "paper"
         },
         {
          "font": {
           "size": 16
          },
          "showarrow": false,
          "text": "AC 8",
          "x": 0.775,
          "xanchor": "center",
          "xref": "paper",
          "y": 0.6481481481481483,
          "yanchor": "bottom",
          "yref": "paper"
         },
         {
          "font": {
           "size": 16
          },
          "showarrow": false,
          "text": "AC 9",
          "x": 0.225,
          "xanchor": "center",
          "xref": "paper",
          "y": 0.5308641975308642,
          "yanchor": "bottom",
          "yref": "paper"
         },
         {
          "font": {
           "size": 16
          },
          "showarrow": false,
          "text": "AC 10",
          "x": 0.775,
          "xanchor": "center",
          "xref": "paper",
          "y": 0.5308641975308642,
          "yanchor": "bottom",
          "yref": "paper"
         },
         {
          "font": {
           "size": 16
          },
          "showarrow": false,
          "text": "AC 11",
          "x": 0.225,
          "xanchor": "center",
          "xref": "paper",
          "y": 0.41358024691358025,
          "yanchor": "bottom",
          "yref": "paper"
         },
         {
          "font": {
           "size": 16
          },
          "showarrow": false,
          "text": "AC 12",
          "x": 0.775,
          "xanchor": "center",
          "xref": "paper",
          "y": 0.41358024691358025,
          "yanchor": "bottom",
          "yref": "paper"
         },
         {
          "font": {
           "size": 16
          },
          "showarrow": false,
          "text": "AC 13",
          "x": 0.225,
          "xanchor": "center",
          "xref": "paper",
          "y": 0.2962962962962963,
          "yanchor": "bottom",
          "yref": "paper"
         },
         {
          "font": {
           "size": 16
          },
          "showarrow": false,
          "text": "AC 14",
          "x": 0.775,
          "xanchor": "center",
          "xref": "paper",
          "y": 0.2962962962962963,
          "yanchor": "bottom",
          "yref": "paper"
         },
         {
          "font": {
           "size": 16
          },
          "showarrow": false,
          "text": "AC 15",
          "x": 0.225,
          "xanchor": "center",
          "xref": "paper",
          "y": 0.17901234567901234,
          "yanchor": "bottom",
          "yref": "paper"
         },
         {
          "font": {
           "size": 16
          },
          "showarrow": false,
          "text": "AC 16",
          "x": 0.775,
          "xanchor": "center",
          "xref": "paper",
          "y": 0.17901234567901234,
          "yanchor": "bottom",
          "yref": "paper"
         },
         {
          "font": {
           "size": 16
          },
          "showarrow": false,
          "text": "AC 17",
          "x": 0.225,
          "xanchor": "center",
          "xref": "paper",
          "y": 0.0617283950617284,
          "yanchor": "bottom",
          "yref": "paper"
         },
         {
          "font": {
           "size": 16
          },
          "showarrow": false,
          "text": "AC 18",
          "x": 0.775,
          "xanchor": "center",
          "xref": "paper",
          "y": 0.0617283950617284,
          "yanchor": "bottom",
          "yref": "paper"
         }
        ],
        "height": 1500,
        "template": {
         "data": {
          "bar": [
           {
            "error_x": {
             "color": "#2a3f5f"
            },
            "error_y": {
             "color": "#2a3f5f"
            },
            "marker": {
             "line": {
              "color": "#E5ECF6",
              "width": 0.5
             },
             "pattern": {
              "fillmode": "overlay",
              "size": 10,
              "solidity": 0.2
             }
            },
            "type": "bar"
           }
          ],
          "barpolar": [
           {
            "marker": {
             "line": {
              "color": "#E5ECF6",
              "width": 0.5
             },
             "pattern": {
              "fillmode": "overlay",
              "size": 10,
              "solidity": 0.2
             }
            },
            "type": "barpolar"
           }
          ],
          "carpet": [
           {
            "aaxis": {
             "endlinecolor": "#2a3f5f",
             "gridcolor": "white",
             "linecolor": "white",
             "minorgridcolor": "white",
             "startlinecolor": "#2a3f5f"
            },
            "baxis": {
             "endlinecolor": "#2a3f5f",
             "gridcolor": "white",
             "linecolor": "white",
             "minorgridcolor": "white",
             "startlinecolor": "#2a3f5f"
            },
            "type": "carpet"
           }
          ],
          "choropleth": [
           {
            "colorbar": {
             "outlinewidth": 0,
             "ticks": ""
            },
            "type": "choropleth"
           }
          ],
          "contour": [
           {
            "colorbar": {
             "outlinewidth": 0,
             "ticks": ""
            },
            "colorscale": [
             [
              0,
              "#0d0887"
             ],
             [
              0.1111111111111111,
              "#46039f"
             ],
             [
              0.2222222222222222,
              "#7201a8"
             ],
             [
              0.3333333333333333,
              "#9c179e"
             ],
             [
              0.4444444444444444,
              "#bd3786"
             ],
             [
              0.5555555555555556,
              "#d8576b"
             ],
             [
              0.6666666666666666,
              "#ed7953"
             ],
             [
              0.7777777777777778,
              "#fb9f3a"
             ],
             [
              0.8888888888888888,
              "#fdca26"
             ],
             [
              1,
              "#f0f921"
             ]
            ],
            "type": "contour"
           }
          ],
          "contourcarpet": [
           {
            "colorbar": {
             "outlinewidth": 0,
             "ticks": ""
            },
            "type": "contourcarpet"
           }
          ],
          "heatmap": [
           {
            "colorbar": {
             "outlinewidth": 0,
             "ticks": ""
            },
            "colorscale": [
             [
              0,
              "#0d0887"
             ],
             [
              0.1111111111111111,
              "#46039f"
             ],
             [
              0.2222222222222222,
              "#7201a8"
             ],
             [
              0.3333333333333333,
              "#9c179e"
             ],
             [
              0.4444444444444444,
              "#bd3786"
             ],
             [
              0.5555555555555556,
              "#d8576b"
             ],
             [
              0.6666666666666666,
              "#ed7953"
             ],
             [
              0.7777777777777778,
              "#fb9f3a"
             ],
             [
              0.8888888888888888,
              "#fdca26"
             ],
             [
              1,
              "#f0f921"
             ]
            ],
            "type": "heatmap"
           }
          ],
          "heatmapgl": [
           {
            "colorbar": {
             "outlinewidth": 0,
             "ticks": ""
            },
            "colorscale": [
             [
              0,
              "#0d0887"
             ],
             [
              0.1111111111111111,
              "#46039f"
             ],
             [
              0.2222222222222222,
              "#7201a8"
             ],
             [
              0.3333333333333333,
              "#9c179e"
             ],
             [
              0.4444444444444444,
              "#bd3786"
             ],
             [
              0.5555555555555556,
              "#d8576b"
             ],
             [
              0.6666666666666666,
              "#ed7953"
             ],
             [
              0.7777777777777778,
              "#fb9f3a"
             ],
             [
              0.8888888888888888,
              "#fdca26"
             ],
             [
              1,
              "#f0f921"
             ]
            ],
            "type": "heatmapgl"
           }
          ],
          "histogram": [
           {
            "marker": {
             "pattern": {
              "fillmode": "overlay",
              "size": 10,
              "solidity": 0.2
             }
            },
            "type": "histogram"
           }
          ],
          "histogram2d": [
           {
            "colorbar": {
             "outlinewidth": 0,
             "ticks": ""
            },
            "colorscale": [
             [
              0,
              "#0d0887"
             ],
             [
              0.1111111111111111,
              "#46039f"
             ],
             [
              0.2222222222222222,
              "#7201a8"
             ],
             [
              0.3333333333333333,
              "#9c179e"
             ],
             [
              0.4444444444444444,
              "#bd3786"
             ],
             [
              0.5555555555555556,
              "#d8576b"
             ],
             [
              0.6666666666666666,
              "#ed7953"
             ],
             [
              0.7777777777777778,
              "#fb9f3a"
             ],
             [
              0.8888888888888888,
              "#fdca26"
             ],
             [
              1,
              "#f0f921"
             ]
            ],
            "type": "histogram2d"
           }
          ],
          "histogram2dcontour": [
           {
            "colorbar": {
             "outlinewidth": 0,
             "ticks": ""
            },
            "colorscale": [
             [
              0,
              "#0d0887"
             ],
             [
              0.1111111111111111,
              "#46039f"
             ],
             [
              0.2222222222222222,
              "#7201a8"
             ],
             [
              0.3333333333333333,
              "#9c179e"
             ],
             [
              0.4444444444444444,
              "#bd3786"
             ],
             [
              0.5555555555555556,
              "#d8576b"
             ],
             [
              0.6666666666666666,
              "#ed7953"
             ],
             [
              0.7777777777777778,
              "#fb9f3a"
             ],
             [
              0.8888888888888888,
              "#fdca26"
             ],
             [
              1,
              "#f0f921"
             ]
            ],
            "type": "histogram2dcontour"
           }
          ],
          "mesh3d": [
           {
            "colorbar": {
             "outlinewidth": 0,
             "ticks": ""
            },
            "type": "mesh3d"
           }
          ],
          "parcoords": [
           {
            "line": {
             "colorbar": {
              "outlinewidth": 0,
              "ticks": ""
             }
            },
            "type": "parcoords"
           }
          ],
          "pie": [
           {
            "automargin": true,
            "type": "pie"
           }
          ],
          "scatter": [
           {
            "marker": {
             "colorbar": {
              "outlinewidth": 0,
              "ticks": ""
             }
            },
            "type": "scatter"
           }
          ],
          "scatter3d": [
           {
            "line": {
             "colorbar": {
              "outlinewidth": 0,
              "ticks": ""
             }
            },
            "marker": {
             "colorbar": {
              "outlinewidth": 0,
              "ticks": ""
             }
            },
            "type": "scatter3d"
           }
          ],
          "scattercarpet": [
           {
            "marker": {
             "colorbar": {
              "outlinewidth": 0,
              "ticks": ""
             }
            },
            "type": "scattercarpet"
           }
          ],
          "scattergeo": [
           {
            "marker": {
             "colorbar": {
              "outlinewidth": 0,
              "ticks": ""
             }
            },
            "type": "scattergeo"
           }
          ],
          "scattergl": [
           {
            "marker": {
             "colorbar": {
              "outlinewidth": 0,
              "ticks": ""
             }
            },
            "type": "scattergl"
           }
          ],
          "scattermapbox": [
           {
            "marker": {
             "colorbar": {
              "outlinewidth": 0,
              "ticks": ""
             }
            },
            "type": "scattermapbox"
           }
          ],
          "scatterpolar": [
           {
            "marker": {
             "colorbar": {
              "outlinewidth": 0,
              "ticks": ""
             }
            },
            "type": "scatterpolar"
           }
          ],
          "scatterpolargl": [
           {
            "marker": {
             "colorbar": {
              "outlinewidth": 0,
              "ticks": ""
             }
            },
            "type": "scatterpolargl"
           }
          ],
          "scatterternary": [
           {
            "marker": {
             "colorbar": {
              "outlinewidth": 0,
              "ticks": ""
             }
            },
            "type": "scatterternary"
           }
          ],
          "surface": [
           {
            "colorbar": {
             "outlinewidth": 0,
             "ticks": ""
            },
            "colorscale": [
             [
              0,
              "#0d0887"
             ],
             [
              0.1111111111111111,
              "#46039f"
             ],
             [
              0.2222222222222222,
              "#7201a8"
             ],
             [
              0.3333333333333333,
              "#9c179e"
             ],
             [
              0.4444444444444444,
              "#bd3786"
             ],
             [
              0.5555555555555556,
              "#d8576b"
             ],
             [
              0.6666666666666666,
              "#ed7953"
             ],
             [
              0.7777777777777778,
              "#fb9f3a"
             ],
             [
              0.8888888888888888,
              "#fdca26"
             ],
             [
              1,
              "#f0f921"
             ]
            ],
            "type": "surface"
           }
          ],
          "table": [
           {
            "cells": {
             "fill": {
              "color": "#EBF0F8"
             },
             "line": {
              "color": "white"
             }
            },
            "header": {
             "fill": {
              "color": "#C8D4E3"
             },
             "line": {
              "color": "white"
             }
            },
            "type": "table"
           }
          ]
         },
         "layout": {
          "annotationdefaults": {
           "arrowcolor": "#2a3f5f",
           "arrowhead": 0,
           "arrowwidth": 1
          },
          "autotypenumbers": "strict",
          "coloraxis": {
           "colorbar": {
            "outlinewidth": 0,
            "ticks": ""
           }
          },
          "colorscale": {
           "diverging": [
            [
             0,
             "#8e0152"
            ],
            [
             0.1,
             "#c51b7d"
            ],
            [
             0.2,
             "#de77ae"
            ],
            [
             0.3,
             "#f1b6da"
            ],
            [
             0.4,
             "#fde0ef"
            ],
            [
             0.5,
             "#f7f7f7"
            ],
            [
             0.6,
             "#e6f5d0"
            ],
            [
             0.7,
             "#b8e186"
            ],
            [
             0.8,
             "#7fbc41"
            ],
            [
             0.9,
             "#4d9221"
            ],
            [
             1,
             "#276419"
            ]
           ],
           "sequential": [
            [
             0,
             "#0d0887"
            ],
            [
             0.1111111111111111,
             "#46039f"
            ],
            [
             0.2222222222222222,
             "#7201a8"
            ],
            [
             0.3333333333333333,
             "#9c179e"
            ],
            [
             0.4444444444444444,
             "#bd3786"
            ],
            [
             0.5555555555555556,
             "#d8576b"
            ],
            [
             0.6666666666666666,
             "#ed7953"
            ],
            [
             0.7777777777777778,
             "#fb9f3a"
            ],
            [
             0.8888888888888888,
             "#fdca26"
            ],
            [
             1,
             "#f0f921"
            ]
           ],
           "sequentialminus": [
            [
             0,
             "#0d0887"
            ],
            [
             0.1111111111111111,
             "#46039f"
            ],
            [
             0.2222222222222222,
             "#7201a8"
            ],
            [
             0.3333333333333333,
             "#9c179e"
            ],
            [
             0.4444444444444444,
             "#bd3786"
            ],
            [
             0.5555555555555556,
             "#d8576b"
            ],
            [
             0.6666666666666666,
             "#ed7953"
            ],
            [
             0.7777777777777778,
             "#fb9f3a"
            ],
            [
             0.8888888888888888,
             "#fdca26"
            ],
            [
             1,
             "#f0f921"
            ]
           ]
          },
          "colorway": [
           "#636efa",
           "#EF553B",
           "#00cc96",
           "#ab63fa",
           "#FFA15A",
           "#19d3f3",
           "#FF6692",
           "#B6E880",
           "#FF97FF",
           "#FECB52"
          ],
          "font": {
           "color": "#2a3f5f"
          },
          "geo": {
           "bgcolor": "white",
           "lakecolor": "white",
           "landcolor": "#E5ECF6",
           "showlakes": true,
           "showland": true,
           "subunitcolor": "white"
          },
          "hoverlabel": {
           "align": "left"
          },
          "hovermode": "closest",
          "mapbox": {
           "style": "light"
          },
          "paper_bgcolor": "white",
          "plot_bgcolor": "#E5ECF6",
          "polar": {
           "angularaxis": {
            "gridcolor": "white",
            "linecolor": "white",
            "ticks": ""
           },
           "bgcolor": "#E5ECF6",
           "radialaxis": {
            "gridcolor": "white",
            "linecolor": "white",
            "ticks": ""
           }
          },
          "scene": {
           "xaxis": {
            "backgroundcolor": "#E5ECF6",
            "gridcolor": "white",
            "gridwidth": 2,
            "linecolor": "white",
            "showbackground": true,
            "ticks": "",
            "zerolinecolor": "white"
           },
           "yaxis": {
            "backgroundcolor": "#E5ECF6",
            "gridcolor": "white",
            "gridwidth": 2,
            "linecolor": "white",
            "showbackground": true,
            "ticks": "",
            "zerolinecolor": "white"
           },
           "zaxis": {
            "backgroundcolor": "#E5ECF6",
            "gridcolor": "white",
            "gridwidth": 2,
            "linecolor": "white",
            "showbackground": true,
            "ticks": "",
            "zerolinecolor": "white"
           }
          },
          "shapedefaults": {
           "line": {
            "color": "#2a3f5f"
           }
          },
          "ternary": {
           "aaxis": {
            "gridcolor": "white",
            "linecolor": "white",
            "ticks": ""
           },
           "baxis": {
            "gridcolor": "white",
            "linecolor": "white",
            "ticks": ""
           },
           "bgcolor": "#E5ECF6",
           "caxis": {
            "gridcolor": "white",
            "linecolor": "white",
            "ticks": ""
           }
          },
          "title": {
           "x": 0.05
          },
          "xaxis": {
           "automargin": true,
           "gridcolor": "white",
           "linecolor": "white",
           "ticks": "",
           "title": {
            "standoff": 15
           },
           "zerolinecolor": "white",
           "zerolinewidth": 2
          },
          "yaxis": {
           "automargin": true,
           "gridcolor": "white",
           "linecolor": "white",
           "ticks": "",
           "title": {
            "standoff": 15
           },
           "zerolinecolor": "white",
           "zerolinewidth": 2
          }
         }
        },
        "width": 1000,
        "xaxis": {
         "anchor": "y",
         "domain": [
          0,
          0.45
         ]
        },
        "xaxis10": {
         "anchor": "y10",
         "domain": [
          0.55,
          1
         ]
        },
        "xaxis11": {
         "anchor": "y11",
         "domain": [
          0,
          0.45
         ]
        },
        "xaxis12": {
         "anchor": "y12",
         "domain": [
          0.55,
          1
         ]
        },
        "xaxis13": {
         "anchor": "y13",
         "domain": [
          0,
          0.45
         ]
        },
        "xaxis14": {
         "anchor": "y14",
         "domain": [
          0.55,
          1
         ]
        },
        "xaxis15": {
         "anchor": "y15",
         "domain": [
          0,
          0.45
         ]
        },
        "xaxis16": {
         "anchor": "y16",
         "domain": [
          0.55,
          1
         ]
        },
        "xaxis17": {
         "anchor": "y17",
         "domain": [
          0,
          0.45
         ]
        },
        "xaxis18": {
         "anchor": "y18",
         "domain": [
          0.55,
          1
         ]
        },
        "xaxis2": {
         "anchor": "y2",
         "domain": [
          0.55,
          1
         ]
        },
        "xaxis3": {
         "anchor": "y3",
         "domain": [
          0,
          0.45
         ]
        },
        "xaxis4": {
         "anchor": "y4",
         "domain": [
          0.55,
          1
         ]
        },
        "xaxis5": {
         "anchor": "y5",
         "domain": [
          0,
          0.45
         ]
        },
        "xaxis6": {
         "anchor": "y6",
         "domain": [
          0.55,
          1
         ]
        },
        "xaxis7": {
         "anchor": "y7",
         "domain": [
          0,
          0.45
         ]
        },
        "xaxis8": {
         "anchor": "y8",
         "domain": [
          0.55,
          1
         ]
        },
        "xaxis9": {
         "anchor": "y9",
         "domain": [
          0,
          0.45
         ]
        },
        "yaxis": {
         "anchor": "x",
         "domain": [
          0.9382716049382716,
          1
         ]
        },
        "yaxis10": {
         "anchor": "x10",
         "domain": [
          0.4691358024691358,
          0.5308641975308642
         ]
        },
        "yaxis11": {
         "anchor": "x11",
         "domain": [
          0.35185185185185186,
          0.41358024691358025
         ]
        },
        "yaxis12": {
         "anchor": "x12",
         "domain": [
          0.35185185185185186,
          0.41358024691358025
         ]
        },
        "yaxis13": {
         "anchor": "x13",
         "domain": [
          0.2345679012345679,
          0.2962962962962963
         ]
        },
        "yaxis14": {
         "anchor": "x14",
         "domain": [
          0.2345679012345679,
          0.2962962962962963
         ]
        },
        "yaxis15": {
         "anchor": "x15",
         "domain": [
          0.11728395061728394,
          0.17901234567901234
         ]
        },
        "yaxis16": {
         "anchor": "x16",
         "domain": [
          0.11728395061728394,
          0.17901234567901234
         ]
        },
        "yaxis17": {
         "anchor": "x17",
         "domain": [
          0,
          0.0617283950617284
         ]
        },
        "yaxis18": {
         "anchor": "x18",
         "domain": [
          0,
          0.0617283950617284
         ]
        },
        "yaxis2": {
         "anchor": "x2",
         "domain": [
          0.9382716049382716,
          1
         ]
        },
        "yaxis3": {
         "anchor": "x3",
         "domain": [
          0.8209876543209876,
          0.8827160493827161
         ]
        },
        "yaxis4": {
         "anchor": "x4",
         "domain": [
          0.8209876543209876,
          0.8827160493827161
         ]
        },
        "yaxis5": {
         "anchor": "x5",
         "domain": [
          0.7037037037037037,
          0.7654320987654322
         ]
        },
        "yaxis6": {
         "anchor": "x6",
         "domain": [
          0.7037037037037037,
          0.7654320987654322
         ]
        },
        "yaxis7": {
         "anchor": "x7",
         "domain": [
          0.5864197530864198,
          0.6481481481481483
         ]
        },
        "yaxis8": {
         "anchor": "x8",
         "domain": [
          0.5864197530864198,
          0.6481481481481483
         ]
        },
        "yaxis9": {
         "anchor": "x9",
         "domain": [
          0.4691358024691358,
          0.5308641975308642
         ]
        }
       }
      },
      "text/html": [
       "<div>                            <div id=\"532859f3-fd13-4be8-93ae-efd6193678df\" class=\"plotly-graph-div\" style=\"height:1500px; width:1000px;\"></div>            <script type=\"text/javascript\">                require([\"plotly\"], function(Plotly) {                    window.PLOTLYENV=window.PLOTLYENV || {};                                    if (document.getElementById(\"532859f3-fd13-4be8-93ae-efd6193678df\")) {                    Plotly.newPlot(                        \"532859f3-fd13-4be8-93ae-efd6193678df\",                        [{\"mode\":\"lines\",\"x\":[\"2019-08-01\",\"2019-08-02\",\"2019-08-03\",\"2019-08-04\",\"2019-08-05\",\"2019-08-06\",\"2019-08-07\",\"2019-08-08\",\"2019-08-09\",\"2019-08-10\",\"2019-08-11\",\"2019-08-12\",\"2019-08-13\",\"2019-08-14\",\"2019-08-24\",\"2019-08-25\",\"2019-08-26\",\"2019-08-27\",\"2019-08-28\",\"2019-08-29\",\"2019-08-30\",\"2019-08-31\",\"2019-09-01\",\"2019-09-02\",\"2019-09-03\",\"2019-09-04\",\"2019-09-05\",\"2019-09-06\",\"2019-09-07\",\"2019-09-08\",\"2019-09-09\",\"2019-09-10\",\"2019-09-11\",\"2019-09-12\",\"2019-09-13\",\"2019-09-14\",\"2019-09-15\",\"2019-09-16\",\"2019-09-17\",\"2019-09-18\",\"2019-09-19\",\"2019-09-20\",\"2019-09-21\",\"2019-09-22\",\"2019-09-23\",\"2019-09-24\",\"2019-09-25\",\"2019-09-26\",\"2019-09-27\",\"2019-09-28\",\"2019-09-29\",\"2019-09-30\"],\"y\":[3057.995527938962,2808.680367935287,2299.0443803864805,2893.8937290955605,2481.2137022399584,2387.9822991028445,2268.3006533508315,3508.0932742615432,2430.793115135163,919.2992921447648,737.7664163818059,540.1412588959581,37.64748596193,0.0,48.251535095218,0.0,12.2036217041,1272.349212951688,3210.159222351121,2583.3899449005785,1743.6329252931216,2243.6273791656854,1669.3125358963448,673.6930696564054,0.0,0.0,378.7751744995248,1344.068986740053,1372.5053460540248,358.877405319176,15.959357025145,911.9516123046905,2607.8331287537903,848.1981747436471,2579.3094253235136,1485.5014298096512,1951.8518730622125,3494.3567279970507,3512.540729827933,2474.5602668152997,2908.129154785308,2578.7010021363267,1137.747013965602,714.1422307129168,1514.116967834553,1932.1541243897168,2153.22448614504,2474.8300421448726,1617.7456224365183,830.1526431884881,799.6758560333329,1111.6651787872697],\"type\":\"scatter\",\"xaxis\":\"x\",\"yaxis\":\"y\"},{\"mode\":\"lines\",\"x\":[\"2019-08-01\",\"2019-08-02\",\"2019-08-03\",\"2019-08-04\",\"2019-08-05\",\"2019-08-06\",\"2019-08-07\",\"2019-08-08\",\"2019-08-09\",\"2019-08-10\",\"2019-08-11\",\"2019-08-12\",\"2019-08-13\",\"2019-08-14\",\"2019-08-24\",\"2019-08-25\",\"2019-08-26\",\"2019-08-27\",\"2019-08-28\",\"2019-08-29\",\"2019-08-30\",\"2019-08-31\",\"2019-09-01\",\"2019-09-02\",\"2019-09-03\",\"2019-09-04\",\"2019-09-05\",\"2019-09-06\",\"2019-09-07\",\"2019-09-08\",\"2019-09-09\",\"2019-09-10\",\"2019-09-11\",\"2019-09-12\",\"2019-09-13\",\"2019-09-14\",\"2019-09-15\",\"2019-09-16\",\"2019-09-17\",\"2019-09-18\",\"2019-09-19\",\"2019-09-20\",\"2019-09-21\",\"2019-09-22\",\"2019-09-23\",\"2019-09-24\",\"2019-09-25\",\"2019-09-26\",\"2019-09-27\",\"2019-09-28\",\"2019-09-29\",\"2019-09-30\"],\"y\":[5059.99951123045,3531.951038910034,3030.513118286196,3068.5292412109984,2804.8366965334612,2456.4746448974497,2189.2737664794568,4737.449885360974,2594.573867553707,1778.768820953465,1690.995973480382,1597.1099403686335,67.357924011248,0.0,496.8942736816297,2858.121455963231,3113.83219251634,5239.254972412486,4103.6644115602285,4334.207951721317,4080.5281423494503,3978.543543457221,2894.9567283935417,2297.355260131858,1026.67076583853,833.672210174607,1221.1090144272298,1403.2122711945087,1961.8691281738988,2446.914808990464,2628.776770141653,2989.4806372071102,2625.7341759646306,1878.5546572265891,4635.677937729071,2434.5068534546813,3028.298977203411,4410.3048883517595,4234.106084686437,3532.462441833592,3186.962706421032,1848.778203064,1034.0071046752582,693.1549651870826,433.5843227195958,2817.952224563677,3295.3026697998735,2946.4935888061577,2308.4464876708826,2258.758163772657,1664.4257542114217,2351.6794298402274],\"type\":\"scatter\",\"xaxis\":\"x2\",\"yaxis\":\"y2\"},{\"mode\":\"lines\",\"x\":[\"2019-08-01\",\"2019-08-02\",\"2019-08-03\",\"2019-08-04\",\"2019-08-05\",\"2019-08-06\",\"2019-08-07\",\"2019-08-08\",\"2019-08-09\",\"2019-08-10\",\"2019-08-11\",\"2019-08-12\",\"2019-08-13\",\"2019-08-14\",\"2019-08-24\",\"2019-08-25\",\"2019-08-26\",\"2019-08-27\",\"2019-08-28\",\"2019-08-29\",\"2019-08-30\",\"2019-08-31\",\"2019-09-01\",\"2019-09-02\",\"2019-09-03\",\"2019-09-04\",\"2019-09-05\",\"2019-09-06\",\"2019-09-07\",\"2019-09-08\",\"2019-09-09\",\"2019-09-10\",\"2019-09-11\",\"2019-09-12\",\"2019-09-13\",\"2019-09-14\",\"2019-09-15\",\"2019-09-16\",\"2019-09-17\",\"2019-09-18\",\"2019-09-19\",\"2019-09-20\",\"2019-09-21\",\"2019-09-22\",\"2019-09-23\",\"2019-09-24\",\"2019-09-25\",\"2019-09-26\",\"2019-09-27\",\"2019-09-28\",\"2019-09-29\",\"2019-09-30\"],\"y\":[1593.947740875293,2044.3105656052799,2067.2236182710353,1804.5867644500834,1240.237943679798,1489.228836898903,1133.5039332124018,2635.647760010118,2518.8255235596894,1488.3029810639791,1785.6239935151928,1424.181461135938,840.1586914215058,395.18738208007693,317.3551833495901,2253.9414554442187,1895.6904118652697,1323.8022018737165,1699.5370144652097,1771.6924692991918,1370.3858927306037,729.781683105426,680.5896163636162,1244.3266186828528,944.0636056060963,774.4120540161068,707.6152652283484,998.4672382201876,1606.0979484559698,1079.591698425346,1869.8038757935117,2850.1579390259935,2362.549602386588,1389.31065567017,2642.9765819244517,2169.3583000490216,1937.3591652222542,2609.562640075677,2947.2434475862437,2578.365322586005,1991.2603823243019,2383.1057149658504,2647.03089859031,2265.8615438843417,1036.3715443267777,1657.9791755677631,1817.321153091496,1880.952772407632,1167.2096437989117,1302.8014489747025,1621.720536987337,1781.1452339478692],\"type\":\"scatter\",\"xaxis\":\"x3\",\"yaxis\":\"y3\"},{\"mode\":\"lines\",\"x\":[\"2019-08-01\",\"2019-08-02\",\"2019-08-03\",\"2019-08-04\",\"2019-08-05\",\"2019-08-06\",\"2019-08-07\",\"2019-08-08\",\"2019-08-09\",\"2019-08-10\",\"2019-08-11\",\"2019-08-12\",\"2019-08-13\",\"2019-08-14\",\"2019-08-24\",\"2019-08-25\",\"2019-08-26\",\"2019-08-27\",\"2019-08-28\",\"2019-08-29\",\"2019-08-30\",\"2019-08-31\",\"2019-09-01\",\"2019-09-02\",\"2019-09-03\",\"2019-09-04\",\"2019-09-05\",\"2019-09-06\",\"2019-09-07\",\"2019-09-08\",\"2019-09-09\",\"2019-09-10\",\"2019-09-11\",\"2019-09-12\",\"2019-09-13\",\"2019-09-14\",\"2019-09-15\",\"2019-09-16\",\"2019-09-17\",\"2019-09-18\",\"2019-09-19\",\"2019-09-20\",\"2019-09-21\",\"2019-09-22\",\"2019-09-23\",\"2019-09-24\",\"2019-09-25\",\"2019-09-26\",\"2019-09-27\",\"2019-09-28\",\"2019-09-29\",\"2019-09-30\"],\"y\":[2325.764736858437,2226.627257064856,1340.9094842071947,1080.5644772261967,634.2500765076041,736.5040170211072,1412.0500465850293,2116.902237533619,1411.1218477173015,1136.3612200318169,825.2331504974221,1005.9126396026987,0.0,0.003161884874109,293.0635606689199,2004.6895190430607,2265.6798350372605,3269.143174316553,2255.248076294043,2547.6924127503526,2214.3998507843316,2138.0122930908615,1884.539876248863,1875.0147619323634,1428.9665893858644,1642.3949347076455,1376.563210761963,2040.422262237533,1662.2976120911471,783.278090506336,719.9923162353052,1662.9466923829918,3198.72773852553,1309.1159929199703,1668.1371869658435,654.816194702113,977.2984000441027,1222.1131188373627,2729.973145324942,2191.2006786500906,2252.413966842722,1456.5114146880576,1315.4646478729628,869.541238144019,629.3331633376915,1707.250906677377,2004.257801513701,2391.9096659011243,1847.3888320083504,1065.4043834533522,1209.0161550293756,1120.3381787949984],\"type\":\"scatter\",\"xaxis\":\"x4\",\"yaxis\":\"y4\"},{\"mode\":\"lines\",\"x\":[\"2019-08-01\",\"2019-08-02\",\"2019-08-03\",\"2019-08-04\",\"2019-08-05\",\"2019-08-06\",\"2019-08-07\",\"2019-08-08\",\"2019-08-09\",\"2019-08-10\",\"2019-08-11\",\"2019-08-12\",\"2019-08-13\",\"2019-08-14\",\"2019-08-24\",\"2019-08-25\",\"2019-08-26\",\"2019-08-27\",\"2019-08-28\",\"2019-08-29\",\"2019-08-30\",\"2019-08-31\",\"2019-09-01\",\"2019-09-02\",\"2019-09-03\",\"2019-09-04\",\"2019-09-05\",\"2019-09-06\",\"2019-09-07\",\"2019-09-08\",\"2019-09-09\",\"2019-09-10\",\"2019-09-11\",\"2019-09-12\",\"2019-09-13\",\"2019-09-14\",\"2019-09-15\",\"2019-09-16\",\"2019-09-17\",\"2019-09-18\",\"2019-09-19\",\"2019-09-20\",\"2019-09-21\",\"2019-09-22\",\"2019-09-23\",\"2019-09-24\",\"2019-09-25\",\"2019-09-26\",\"2019-09-27\",\"2019-09-28\",\"2019-09-29\",\"2019-09-30\"],\"y\":[1020.1759483489565,1157.0401775208013,968.902005401505,1072.4817641602785,1167.3700309296257,1084.38883004762,747.217596145591,861.891357177735,874.0432848968776,1333.2620952453244,940.8660917969204,653.072690322838,449.06081230926986,286.3136478881169,131.51693072510304,844.5738565674055,1140.5492562712732,1000.9059025727838,937.6972546692289,1062.5931700973633,1061.175579010041,1422.09875594319,1183.7456431578055,1085.3378744354338,1206.1497976074552,1236.8474805907306,890.3685590210376,1203.766329162688,1122.727180480993,1502.610942932282,1223.0300986861291,1101.0653080749532,1158.734600402898,519.5160062866277,1105.4269655457658,1125.8999982452392,1074.2372434083306,1083.2595235291358,1185.2223960418505,920.2212019807226,988.4576552734741,943.4012133636232,1077.2576012727332,986.3436289062713,819.628723388738,880.7090740508363,1007.4152129364251,1024.573901428253,627.0996636199764,911.4317599334761,718.8436875458593,670.0435881500963],\"type\":\"scatter\",\"xaxis\":\"x5\",\"yaxis\":\"y5\"},{\"mode\":\"lines\",\"x\":[\"2019-08-01\",\"2019-08-02\",\"2019-08-03\",\"2019-08-04\",\"2019-08-05\",\"2019-08-06\",\"2019-08-07\",\"2019-08-08\",\"2019-08-09\",\"2019-08-10\",\"2019-08-11\",\"2019-08-12\",\"2019-08-13\",\"2019-08-14\",\"2019-08-24\",\"2019-08-25\",\"2019-08-26\",\"2019-08-27\",\"2019-08-28\",\"2019-08-29\",\"2019-08-30\",\"2019-08-31\",\"2019-09-01\",\"2019-09-02\",\"2019-09-03\",\"2019-09-04\",\"2019-09-05\",\"2019-09-06\",\"2019-09-07\",\"2019-09-08\",\"2019-09-09\",\"2019-09-10\",\"2019-09-11\",\"2019-09-12\",\"2019-09-13\",\"2019-09-14\",\"2019-09-15\",\"2019-09-16\",\"2019-09-17\",\"2019-09-18\",\"2019-09-19\",\"2019-09-20\",\"2019-09-21\",\"2019-09-22\",\"2019-09-23\",\"2019-09-24\",\"2019-09-25\",\"2019-09-26\",\"2019-09-27\",\"2019-09-28\",\"2019-09-29\",\"2019-09-30\"],\"y\":[1985.3643145064846,1654.7587550659337,1803.61952825941,2490.4820074159616,2644.557386200185,1834.1599510498452,1080.7520754852274,2123.97945611583,1763.847890075852,2531.5670731507107,1888.6182314147256,1073.605339202872,645.2434629366235,545.84674835969,126.22881683348596,1899.7924089661446,1716.3168279648387,1908.33629106134,2270.1622695771275,2254.6056504745725,2098.2203604278916,1926.2143927003024,1458.6808290254485,1885.2966578063715,1875.7059038391242,2157.921082641776,2348.3398393708007,2297.1174196474126,2152.9576227188873,2869.705277648918,2048.527497192453,2461.3470527343684,2190.6121314088273,694.9838776779128,2312.637980896159,2191.386084854314,2681.5024440154425,2145.9894002076085,2063.130371307508,2073.2314404603458,1854.291357414354,1848.8722471770527,1775.705314697194,1052.1778157271476,1240.180476661697,1984.335514587527,1900.491908462629,1633.5357417909415,1663.5729590149351,1524.0970772706173,701.515963027956,493.16602275080214],\"type\":\"scatter\",\"xaxis\":\"x6\",\"yaxis\":\"y6\"},{\"mode\":\"lines\",\"x\":[\"2019-08-01\",\"2019-08-02\",\"2019-08-03\",\"2019-08-04\",\"2019-08-05\",\"2019-08-06\",\"2019-08-07\",\"2019-08-08\",\"2019-08-09\",\"2019-08-10\",\"2019-08-11\",\"2019-08-12\",\"2019-08-13\",\"2019-08-14\",\"2019-08-24\",\"2019-08-25\",\"2019-08-26\",\"2019-08-27\",\"2019-08-28\",\"2019-08-29\",\"2019-08-30\",\"2019-08-31\",\"2019-09-01\",\"2019-09-02\",\"2019-09-03\",\"2019-09-04\",\"2019-09-05\",\"2019-09-06\",\"2019-09-07\",\"2019-09-08\",\"2019-09-09\",\"2019-09-10\",\"2019-09-11\",\"2019-09-12\",\"2019-09-13\",\"2019-09-14\",\"2019-09-15\",\"2019-09-16\",\"2019-09-17\",\"2019-09-18\",\"2019-09-19\",\"2019-09-20\",\"2019-09-21\",\"2019-09-22\",\"2019-09-23\",\"2019-09-24\",\"2019-09-25\",\"2019-09-26\",\"2019-09-27\",\"2019-09-28\",\"2019-09-29\",\"2019-09-30\"],\"y\":[1831.9978095473743,1647.026878143288,2252.057113403444,1965.427473571815,1733.0267061615139,1693.7535323487014,2010.0886148072798,2096.728949493519,2161.2379882507157,2310.9961890717477,2288.1634251709934,2672.996286560173,1514.6347158965957,917.2277796021718,206.144297973643,1918.953084777919,2275.2227599030293,2358.007438492001,1996.6128540955165,2544.3907020035467,2224.309083496183,2559.836384948772,2189.052332565424,2660.5772078551845,2398.86567474382,2199.570287494726,2338.4367990875894,2040.5450228730506,2766.024637313835,3306.505369049258,2762.4589407348567,2704.6774151611803,1813.8126866150199,501.2504727783401,1385.1678515016356,1380.0507007370393,2149.561980011112,1976.460843871967,2302.4027127686204,2574.684985107408,2309.168807861275,1861.5466181641393,2178.069515617406,1498.1322565842256,1266.4917132949915,1572.9830272064341,1886.298716476551,1457.1264036408502,1612.7849702606707,1300.9720675659005,1319.1019378053088,1133.7656036415215],\"type\":\"scatter\",\"xaxis\":\"x7\",\"yaxis\":\"y7\"},{\"mode\":\"lines\",\"x\":[\"2019-08-01\",\"2019-08-02\",\"2019-08-03\",\"2019-08-04\",\"2019-08-05\",\"2019-08-06\",\"2019-08-07\",\"2019-08-08\",\"2019-08-09\",\"2019-08-10\",\"2019-08-11\",\"2019-08-12\",\"2019-08-13\",\"2019-08-14\",\"2019-08-24\",\"2019-08-25\",\"2019-08-26\",\"2019-08-27\",\"2019-08-28\",\"2019-08-29\",\"2019-08-30\",\"2019-08-31\",\"2019-09-01\",\"2019-09-02\",\"2019-09-03\",\"2019-09-04\",\"2019-09-05\",\"2019-09-06\",\"2019-09-07\",\"2019-09-08\",\"2019-09-09\",\"2019-09-10\",\"2019-09-11\",\"2019-09-12\",\"2019-09-13\",\"2019-09-14\",\"2019-09-15\",\"2019-09-16\",\"2019-09-17\",\"2019-09-18\",\"2019-09-19\",\"2019-09-20\",\"2019-09-21\",\"2019-09-22\",\"2019-09-23\",\"2019-09-24\",\"2019-09-25\",\"2019-09-26\",\"2019-09-27\",\"2019-09-28\",\"2019-09-29\",\"2019-09-30\"],\"y\":[2302.206124832049,1045.5139943847175,914.5614846726236,1098.3711232758196,1145.953278128761,1154.8180216827848,1431.6670680847137,2279.736494812025,1822.3511665268736,2022.0097933503218,1991.357371856628,1459.1225187988282,1340.1284813232087,883.6533231201632,37.716948974599994,1098.9659879530172,2038.4790509492404,2164.292812133938,2031.1713190919809,2640.0890797730794,2246.5665699157685,2052.345536193971,1570.2198079834195,2290.5001069640516,2167.6402283325297,1826.2011257324343,2034.5335296327057,2384.711311828639,2168.9989632873903,1738.603101928808,1995.5507568359033,2332.46049758931,1653.4500164184772,894.830377548217,1754.6153205719363,1883.474837493937,1758.7297737046292,2138.02265246579,2389.5014075317968,1707.3570503540768,1521.4302683106414,1160.8177172852902,2000.2552071153077,1630.0498691102878,1560.416620239202,1833.2818777467398,1456.1354505463246,1614.6763642882606,2031.866470310241,1626.1732923737372,1113.0394757501701,1556.3110986786733],\"type\":\"scatter\",\"xaxis\":\"x8\",\"yaxis\":\"y8\"},{\"mode\":\"lines\",\"x\":[\"2019-08-01\",\"2019-08-02\",\"2019-08-03\",\"2019-08-04\",\"2019-08-05\",\"2019-08-06\",\"2019-08-07\",\"2019-08-08\",\"2019-08-09\",\"2019-08-10\",\"2019-08-11\",\"2019-08-12\",\"2019-08-13\",\"2019-08-14\",\"2019-08-24\",\"2019-08-25\",\"2019-08-26\",\"2019-08-27\",\"2019-08-28\",\"2019-08-29\",\"2019-08-30\",\"2019-08-31\",\"2019-09-01\",\"2019-09-02\",\"2019-09-03\",\"2019-09-04\",\"2019-09-05\",\"2019-09-06\",\"2019-09-07\",\"2019-09-08\",\"2019-09-09\",\"2019-09-10\",\"2019-09-11\",\"2019-09-12\",\"2019-09-13\",\"2019-09-14\",\"2019-09-15\",\"2019-09-16\",\"2019-09-17\",\"2019-09-18\",\"2019-09-19\",\"2019-09-20\",\"2019-09-21\",\"2019-09-22\",\"2019-09-23\",\"2019-09-24\",\"2019-09-25\",\"2019-09-26\",\"2019-09-27\",\"2019-09-28\",\"2019-09-29\",\"2019-09-30\"],\"y\":[1595.6848058624369,1853.3688258209506,1948.012234573354,1759.8555621949783,1809.435765991285,1655.4529381790837,1797.9365451050458,2318.8361033935207,1560.1591198425806,1669.4582354277086,2014.7237526169286,2019.4790453339735,1381.4391643143117,872.3908605347515,555.3897539063099,3113.2818551026685,2231.137984107963,2985.117467468432,2963.998643402459,3031.5425257111037,1885.3971051561193,2122.6060805664574,1809.2724069060623,2247.1457892457356,2752.7469881592174,2474.7934962006925,2136.2086377717574,1949.1043444977638,2311.1748148957095,3131.6223158570456,2781.8738264618646,2978.9941281737833,1743.2520466003205,893.1463212890799,2051.752401611504,1615.1136548920836,2262.460481872755,2772.92049548348,3129.2025413362835,2700.8217923586017,2338.1849963380705,1878.4686173097425,2079.622451126121,2084.4886837770355,2205.4752258301055,2294.29468725595,1884.0296041413085,2066.7601525878013,1707.976576767022,1698.3646304931358,1868.8567489853997,2126.6703782958934],\"type\":\"scatter\",\"xaxis\":\"x9\",\"yaxis\":\"y9\"},{\"mode\":\"lines\",\"x\":[\"2019-08-01\",\"2019-08-02\",\"2019-08-03\",\"2019-08-04\",\"2019-08-05\",\"2019-08-06\",\"2019-08-07\",\"2019-08-08\",\"2019-08-09\",\"2019-08-10\",\"2019-08-11\",\"2019-08-12\",\"2019-08-13\",\"2019-08-14\",\"2019-08-24\",\"2019-08-25\",\"2019-08-26\",\"2019-08-27\",\"2019-08-28\",\"2019-08-29\",\"2019-08-30\",\"2019-08-31\",\"2019-09-01\",\"2019-09-02\",\"2019-09-03\",\"2019-09-04\",\"2019-09-05\",\"2019-09-06\",\"2019-09-07\",\"2019-09-08\",\"2019-09-09\",\"2019-09-10\",\"2019-09-11\",\"2019-09-12\",\"2019-09-13\",\"2019-09-14\",\"2019-09-15\",\"2019-09-16\",\"2019-09-17\",\"2019-09-18\",\"2019-09-19\",\"2019-09-20\",\"2019-09-21\",\"2019-09-22\",\"2019-09-23\",\"2019-09-24\",\"2019-09-25\",\"2019-09-26\",\"2019-09-27\",\"2019-09-28\",\"2019-09-29\",\"2019-09-30\"],\"y\":[1244.3367530518126,1246.9859109344525,1033.2312804565634,1189.0074733888048,991.3754890747186,1064.393285949838,1131.723742599498,1001.7378051454416,1200.2791783218365,1128.2158437653136,1061.0157041396694,979.6240068206803,810.832453918459,534.6928480682002,143.35958038331202,970.268678474548,1357.96100410459,1344.9651279298164,1342.7456714248635,1429.6972915496997,1210.0171517105678,1164.3049881591867,1292.8989030762707,1015.3131288452329,930.450606353864,993.0438761978287,1068.6969629516998,900.2049494629708,1267.773962921167,1098.9580453719327,996.0093523866246,1143.6090429382652,1019.3993832703136,474.06325915527174,1106.9743591919662,886.3949900512984,1000.8170194473812,869.1758430252073,1101.8978636321665,1141.2331942138733,1003.4843885116964,955.2083981627978,907.3823265838301,1052.450526100161,882.5355044022336,849.1240185622507,1144.9986677856325,1029.9277328644307,886.9942610169013,903.7327723693999,970.3797976608536,853.7527307969335],\"type\":\"scatter\",\"xaxis\":\"x10\",\"yaxis\":\"y10\"},{\"mode\":\"lines\",\"x\":[\"2019-08-01\",\"2019-08-02\",\"2019-08-03\",\"2019-08-04\",\"2019-08-05\",\"2019-08-06\",\"2019-08-07\",\"2019-08-08\",\"2019-08-09\",\"2019-08-10\",\"2019-08-11\",\"2019-08-12\",\"2019-08-13\",\"2019-08-14\",\"2019-08-24\",\"2019-08-25\",\"2019-08-26\",\"2019-08-27\",\"2019-08-28\",\"2019-08-29\",\"2019-08-30\",\"2019-08-31\",\"2019-09-01\",\"2019-09-02\",\"2019-09-03\",\"2019-09-04\",\"2019-09-05\",\"2019-09-06\",\"2019-09-07\",\"2019-09-08\",\"2019-09-09\",\"2019-09-10\",\"2019-09-11\",\"2019-09-12\",\"2019-09-13\",\"2019-09-14\",\"2019-09-15\",\"2019-09-16\",\"2019-09-17\",\"2019-09-18\",\"2019-09-19\",\"2019-09-20\",\"2019-09-21\",\"2019-09-22\",\"2019-09-23\",\"2019-09-24\",\"2019-09-25\",\"2019-09-26\",\"2019-09-27\",\"2019-09-28\",\"2019-09-29\",\"2019-09-30\"],\"y\":[1268.6759475708284,1417.1475744628594,1545.6380295181523,1286.9693002014499,2347.134169441322,2018.393896202039,1739.963713028105,2300.72296772011,1832.007281089759,1455.040876525894,1404.0666213379463,1328.1238098144938,1171.855859863223,1119.9571667481086,261.81784228516005,1047.8973625793847,1010.5386508330714,1414.1813954163363,1850.513433197035,1899.5417493896618,2253.407447113002,2212.497373840356,1329.3162324676628,1023.8039206162807,1178.335094436745,1870.8650729829146,1460.625455490126,1644.2559306182964,2040.55566369623,2403.7040083008205,1664.5575555878518,2294.1013759766815,2278.007274963435,881.3050779419416,2118.37987957757,2170.1581838378906,2882.941580810586,2962.9427601930424,2850.8032330933356,2664.941612426922,1649.167892501875,1298.842240585398,1078.199893058883,1140.6220250550684,917.797315490793,1023.9290729675771,1317.7335853348973,2245.541327797023,1721.5209912721193,1266.1136401673468,1356.9905913390369,1203.4679386291639],\"type\":\"scatter\",\"xaxis\":\"x11\",\"yaxis\":\"y11\"},{\"mode\":\"lines\",\"x\":[\"2019-08-01\",\"2019-08-02\",\"2019-08-03\",\"2019-08-04\",\"2019-08-05\",\"2019-08-06\",\"2019-08-07\",\"2019-08-08\",\"2019-08-09\",\"2019-08-10\",\"2019-08-11\",\"2019-08-12\",\"2019-08-13\",\"2019-08-14\",\"2019-08-24\",\"2019-08-25\",\"2019-08-26\",\"2019-08-27\",\"2019-08-28\",\"2019-08-29\",\"2019-08-30\",\"2019-08-31\",\"2019-09-01\",\"2019-09-02\",\"2019-09-03\",\"2019-09-04\",\"2019-09-05\",\"2019-09-06\",\"2019-09-07\",\"2019-09-08\",\"2019-09-09\",\"2019-09-10\",\"2019-09-11\",\"2019-09-12\",\"2019-09-13\",\"2019-09-14\",\"2019-09-15\",\"2019-09-16\",\"2019-09-17\",\"2019-09-18\",\"2019-09-19\",\"2019-09-20\",\"2019-09-21\",\"2019-09-22\",\"2019-09-23\",\"2019-09-24\",\"2019-09-25\",\"2019-09-26\",\"2019-09-27\",\"2019-09-28\",\"2019-09-29\",\"2019-09-30\"],\"y\":[1779.175407760715,1963.7940644072878,2180.3447232055614,2123.903320312404,2178.167290527419,1627.371160583669,1671.5471274415484,2446.8917148362116,2154.50640197764,2012.5011313248608,2417.0578529053705,2117.8904849244022,1145.1572569580514,761.696529541078,223.06431494138002,1649.621010375939,1161.5322491760976,2407.761310890212,2134.7020191041356,2636.4710025787917,1998.5323000337635,2525.5700424805696,1878.1029851684477,2400.43046093749,2051.007756591824,1821.0636423949538,1871.1731279907096,2079.700427185236,1959.0187149659084,2028.9901590804905,1921.5589231568135,2310.0290879899185,1583.8766231689551,898.1299819336497,1644.8831098022563,1992.5941685180412,2121.579306442298,1742.5524022370228,2462.6789542848314,1979.3968176880066,2351.787911743188,2075.885686843965,2212.9155260620187,2073.3549306030786,1846.521048339927,1130.9528376618862,1699.6143682861311,1771.0532664566597,1790.46175186157,1598.4127394713596,1296.8433382722417,1639.0164043045909],\"type\":\"scatter\",\"xaxis\":\"x12\",\"yaxis\":\"y12\"},{\"mode\":\"lines\",\"x\":[\"2019-08-01\",\"2019-08-02\",\"2019-08-03\",\"2019-08-04\",\"2019-08-05\",\"2019-08-06\",\"2019-08-07\",\"2019-08-08\",\"2019-08-09\",\"2019-08-10\",\"2019-08-11\",\"2019-08-12\",\"2019-08-13\",\"2019-08-14\",\"2019-08-24\",\"2019-08-25\",\"2019-08-26\",\"2019-08-27\",\"2019-08-28\",\"2019-08-29\",\"2019-08-30\",\"2019-08-31\",\"2019-09-01\",\"2019-09-02\",\"2019-09-03\",\"2019-09-04\",\"2019-09-05\",\"2019-09-06\",\"2019-09-07\",\"2019-09-08\",\"2019-09-09\",\"2019-09-10\",\"2019-09-11\",\"2019-09-12\",\"2019-09-13\",\"2019-09-14\",\"2019-09-15\",\"2019-09-16\",\"2019-09-17\",\"2019-09-18\",\"2019-09-19\",\"2019-09-20\",\"2019-09-21\",\"2019-09-22\",\"2019-09-23\",\"2019-09-24\",\"2019-09-25\",\"2019-09-26\",\"2019-09-27\",\"2019-09-28\",\"2019-09-29\",\"2019-09-30\"],\"y\":[3304.2519556885677,3606.1269255828324,3397.414573730731,3455.182461914252,2906.306482650922,2310.053005920475,3227.0321180421365,4520.524020751958,3167.2690791932473,2701.8340371095724,2471.417633804375,1560.4494365234275,1180.9997624588189,1732.0693194581318,544.6040875244,3642.3638140870103,2636.326567184592,3329.002938781847,3458.2887630616597,3381.282367202722,2687.5946655885446,2748.812881957928,3102.2660284730396,2181.1287735215187,1882.006645477357,2709.8652026214295,2279.22170813004,3287.8458235474777,3815.375583374151,3408.032255004836,3519.103780746585,3724.4639716187385,2485.20246332548,1488.2724661865795,3586.0188735962697,3064.5245422210564,2830.3753728791617,3021.384933906655,3393.9061410218856,2995.6172563476116,4112.8130570680005,2713.5479186860016,2865.0941067964145,2516.782673263651,2946.4375636597597,3149.4588784485577,3375.6180942535775,3485.564985809455,2988.4661651612428,2226.0553309021484,2214.08844914237,2073.3284645997414],\"type\":\"scatter\",\"xaxis\":\"x13\",\"yaxis\":\"y13\"},{\"mode\":\"lines\",\"x\":[\"2019-08-01\",\"2019-08-02\",\"2019-08-03\",\"2019-08-04\",\"2019-08-05\",\"2019-08-06\",\"2019-08-07\",\"2019-08-08\",\"2019-08-09\",\"2019-08-10\",\"2019-08-11\",\"2019-08-12\",\"2019-08-13\",\"2019-08-14\",\"2019-08-24\",\"2019-08-25\",\"2019-08-26\",\"2019-08-27\",\"2019-08-28\",\"2019-08-29\",\"2019-08-30\",\"2019-08-31\",\"2019-09-01\",\"2019-09-02\",\"2019-09-03\",\"2019-09-04\",\"2019-09-05\",\"2019-09-06\",\"2019-09-07\",\"2019-09-08\",\"2019-09-09\",\"2019-09-10\",\"2019-09-11\",\"2019-09-12\",\"2019-09-13\",\"2019-09-14\",\"2019-09-15\",\"2019-09-16\",\"2019-09-17\",\"2019-09-18\",\"2019-09-19\",\"2019-09-20\",\"2019-09-21\",\"2019-09-22\",\"2019-09-23\",\"2019-09-24\",\"2019-09-25\",\"2019-09-26\",\"2019-09-27\",\"2019-09-28\",\"2019-09-29\",\"2019-09-30\"],\"y\":[2166.4395139159983,1652.1371454774844,1318.0431133117481,1549.9230427552363,1948.156036834659,2050.6142433471705,1999.1895218278414,2548.769584190457,1736.1959360963024,1836.3595202636413,1794.019525024462,1726.9544222412294,996.3781903381133,1048.0118014526724,336.62579705814983,2287.6705456544696,1978.300366043105,2357.674491577322,2576.2526297608783,1633.5299362184162,2015.588148376474,1871.1842919922476,1994.067627807629,1477.4426589736272,2050.126472656322,2614.846187072622,2626.95603356936,2911.407903808681,3141.6147548829354,3160.69997302264,2634.6247507324592,3011.9000522461583,2131.5738858489685,1074.62888500981,2021.1127830200985,2295.1405163573318,2174.23530688482,2315.580842529332,2398.3803067627205,2133.870536010825,1924.0692322389075,1690.9049671174016,1803.4944693605084,1294.9115296630398,1495.8593660278098,1664.1695142822211,1843.2974495850049,1995.541056335522,1911.0861724853708,1900.0487775880674,1627.5613508912754,1691.2886998901788],\"type\":\"scatter\",\"xaxis\":\"x14\",\"yaxis\":\"y14\"},{\"mode\":\"lines\",\"x\":[\"2019-08-01\",\"2019-08-02\",\"2019-08-03\",\"2019-08-04\",\"2019-08-05\",\"2019-08-06\",\"2019-08-07\",\"2019-08-08\",\"2019-08-09\",\"2019-08-10\",\"2019-08-11\",\"2019-08-12\",\"2019-08-13\",\"2019-08-14\",\"2019-08-24\",\"2019-08-25\",\"2019-08-26\",\"2019-08-27\",\"2019-08-28\",\"2019-08-29\",\"2019-08-30\",\"2019-08-31\",\"2019-09-01\",\"2019-09-02\",\"2019-09-03\",\"2019-09-04\",\"2019-09-05\",\"2019-09-06\",\"2019-09-07\",\"2019-09-08\",\"2019-09-09\",\"2019-09-10\",\"2019-09-11\",\"2019-09-12\",\"2019-09-13\",\"2019-09-14\",\"2019-09-15\",\"2019-09-16\",\"2019-09-17\",\"2019-09-18\",\"2019-09-19\",\"2019-09-20\",\"2019-09-21\",\"2019-09-22\",\"2019-09-23\",\"2019-09-24\",\"2019-09-25\",\"2019-09-26\",\"2019-09-27\",\"2019-09-28\",\"2019-09-29\",\"2019-09-30\"],\"y\":[3028.5557173463008,3153.6833013916685,3156.5386474457755,3237.3125828322795,3487.697781196438,3418.1531511307894,3128.5728184815243,3114.909685653809,3084.3248694459744,2743.7672586671615,4281.370522094883,3358.9633655092216,2477.4568248292007,1386.9186795045168,447.2317367248343,3442.389182907226,3291.3457202607046,2997.440769195614,4034.251605285745,3497.5423776397392,2687.7130671234936,2976.787312347464,2940.82047436535,1850.2891033020653,1609.5238472901397,1433.5442309570294,1513.7128762207212,1935.2363880157225,1026.9598398437615,2381.7307750702016,2212.125042358388,3622.242955566408,3236.2803712158416,1522.7404072266797,3439.6590689697496,2717.9871378784273,2887.972657837005,3474.060143982018,4291.53027600114,3393.177391113327,3813.9576945190647,2962.88981483455,2634.2979740982064,2124.442658081142,1742.1858764534402,2306.9661829682545,3187.542876953292,3181.7824557190615,2791.148602920572,2172.0618750916724,1959.0816018982373,2069.4552831420356],\"type\":\"scatter\",\"xaxis\":\"x15\",\"yaxis\":\"y15\"},{\"mode\":\"lines\",\"x\":[\"2019-08-01\",\"2019-08-02\",\"2019-08-03\",\"2019-08-04\",\"2019-08-05\",\"2019-08-06\",\"2019-08-07\",\"2019-08-08\",\"2019-08-09\",\"2019-08-10\",\"2019-08-11\",\"2019-08-12\",\"2019-08-13\",\"2019-08-14\",\"2019-08-24\",\"2019-08-25\",\"2019-08-26\",\"2019-08-27\",\"2019-08-28\",\"2019-08-29\",\"2019-08-30\",\"2019-08-31\",\"2019-09-01\",\"2019-09-02\",\"2019-09-03\",\"2019-09-04\",\"2019-09-05\",\"2019-09-06\",\"2019-09-07\",\"2019-09-08\",\"2019-09-09\",\"2019-09-10\",\"2019-09-11\",\"2019-09-12\",\"2019-09-13\",\"2019-09-14\",\"2019-09-15\",\"2019-09-16\",\"2019-09-17\",\"2019-09-18\",\"2019-09-19\",\"2019-09-20\",\"2019-09-21\",\"2019-09-22\",\"2019-09-23\",\"2019-09-24\",\"2019-09-25\",\"2019-09-26\",\"2019-09-27\",\"2019-09-28\",\"2019-09-29\",\"2019-09-30\"],\"y\":[2561.444699340946,2424.806107055771,2071.551159057686,2025.092323791542,2412.693734008811,1998.3102943498307,1961.7943703003684,2696.1603179779527,2204.865998703154,2001.9110874940102,1863.616390815887,1734.9693449174495,1710.1046978454617,1504.0595548096999,232.26690612792797,2211.02190707419,1860.6257811585253,2470.210130981649,2226.984544464162,2146.362032806412,2047.6397954712918,1903.7006236573482,1303.745599853512,963.6790530548735,898.2695122681043,1158.4895701599567,792.8465925599148,1290.386862682433,929.403337982228,1062.0744441604775,1798.8698965302785,2586.313493385455,2557.1761129151296,1266.0508526306965,2869.962126800678,1981.2631291847604,1722.8311150665668,2310.858905761811,2244.56086706566,2253.8088496858372,2340.1016140137094,1819.8745700683312,1654.5847688601148,2160.4163924256495,1943.9187094115541,2143.526265533466,1731.2370587311877,1823.2630733490098,1563.706727203459,1691.0556651001107,1355.9265103148944,1321.080695304901],\"type\":\"scatter\",\"xaxis\":\"x16\",\"yaxis\":\"y16\"},{\"mode\":\"lines\",\"x\":[\"2019-08-01\",\"2019-08-02\",\"2019-08-03\",\"2019-08-04\",\"2019-08-05\",\"2019-08-06\",\"2019-08-07\",\"2019-08-08\",\"2019-08-09\",\"2019-08-10\",\"2019-08-11\",\"2019-08-12\",\"2019-08-13\",\"2019-08-14\",\"2019-08-24\",\"2019-08-25\",\"2019-08-26\",\"2019-08-27\",\"2019-08-28\",\"2019-08-29\",\"2019-08-30\",\"2019-08-31\",\"2019-09-01\",\"2019-09-02\",\"2019-09-03\",\"2019-09-04\",\"2019-09-05\",\"2019-09-06\",\"2019-09-07\",\"2019-09-08\",\"2019-09-09\",\"2019-09-10\",\"2019-09-11\",\"2019-09-12\",\"2019-09-13\",\"2019-09-14\",\"2019-09-15\",\"2019-09-16\",\"2019-09-17\",\"2019-09-18\",\"2019-09-19\",\"2019-09-20\",\"2019-09-21\",\"2019-09-22\",\"2019-09-23\",\"2019-09-24\",\"2019-09-25\",\"2019-09-26\",\"2019-09-27\",\"2019-09-28\",\"2019-09-29\",\"2019-09-30\"],\"y\":[3268.6436985475157,3127.669673706142,3091.3827945557036,3146.422669616857,2654.8631013794597,2606.955250305153,2402.061855682309,2850.3079552614527,2655.192889892621,2957.3436437226333,2666.3432674561222,2936.4409259034974,2065.5679583130755,1187.7758446350151,464.28808398439,2772.3713405762883,2573.236728454642,3029.523745727668,2738.997191467344,3273.861313522383,2994.0327479554503,3157.749459533784,2979.183371460179,3059.29325292985,3196.644723632858,3197.727867065498,2984.6284773561315,2929.319674255465,3076.807962158229,3304.74285803217,3119.18206762701,3183.540723510851,2793.071372253595,1378.30112683109,3129.4270422668833,3193.990500000082,3045.4179339601183,3424.2219308472504,2912.3778765869806,3264.5301385500293,3183.5359664918187,3011.0107827149013,2993.731207191511,3088.8858714599533,3143.732097900561,2877.868849365359,3105.9849973755913,3074.3282437135576,3006.5523500976747,2257.1049827271117,2432.599820129436,2437.062607421831],\"type\":\"scatter\",\"xaxis\":\"x17\",\"yaxis\":\"y17\"},{\"mode\":\"lines\",\"x\":[\"2019-08-01\",\"2019-08-02\",\"2019-08-03\",\"2019-08-04\",\"2019-08-05\",\"2019-08-06\",\"2019-08-07\",\"2019-08-08\",\"2019-08-09\",\"2019-08-10\",\"2019-08-11\",\"2019-08-12\",\"2019-08-13\",\"2019-08-14\",\"2019-08-24\",\"2019-08-25\",\"2019-08-26\",\"2019-08-27\",\"2019-08-28\",\"2019-08-29\",\"2019-08-30\",\"2019-08-31\",\"2019-09-01\",\"2019-09-02\",\"2019-09-03\",\"2019-09-04\",\"2019-09-05\",\"2019-09-06\",\"2019-09-07\",\"2019-09-08\",\"2019-09-09\",\"2019-09-10\",\"2019-09-11\",\"2019-09-12\",\"2019-09-13\",\"2019-09-14\",\"2019-09-15\",\"2019-09-16\",\"2019-09-17\",\"2019-09-18\",\"2019-09-19\",\"2019-09-20\",\"2019-09-21\",\"2019-09-22\",\"2019-09-23\",\"2019-09-24\",\"2019-09-25\",\"2019-09-26\",\"2019-09-27\",\"2019-09-28\",\"2019-09-29\",\"2019-09-30\"],\"y\":[5317.220292847015,5474.652081359996,5554.67346069348,5777.8089884035335,4265.814987228461,4859.851874633867,4253.88839147959,4453.461934784096,4727.626016357564,4636.154080444377,4150.3619272461665,4661.57119055201,3388.2189060060573,1763.8002985839903,842.5162414550599,4583.368013183745,3782.147587158269,3814.50765991227,3759.629435546995,4395.654824951308,3803.7495841065092,4276.141558426142,4535.802711914136,4707.219728759916,4141.098248291053,4114.05997546406,4060.6407370606585,3949.61831930554,5299.024725097847,4552.171012207223,3931.97755908216,4055.1042292481793,3397.6306223145593,1953.458096679719,4561.586776931856,4811.888045532385,4615.411991699422,4947.087547119192,4418.2990568848545,5089.810139648593,4965.886304199345,4404.097537719787,4644.564399414248,5875.778730224847,5490.615250000219,3748.117164489779,4594.837805053785,4526.7345107576175,4849.633471313602,2952.1675234376357,3906.844094452034,3929.0904291992765],\"type\":\"scatter\",\"xaxis\":\"x18\",\"yaxis\":\"y18\"}],                        {\"template\":{\"data\":{\"bar\":[{\"error_x\":{\"color\":\"#2a3f5f\"},\"error_y\":{\"color\":\"#2a3f5f\"},\"marker\":{\"line\":{\"color\":\"#E5ECF6\",\"width\":0.5},\"pattern\":{\"fillmode\":\"overlay\",\"size\":10,\"solidity\":0.2}},\"type\":\"bar\"}],\"barpolar\":[{\"marker\":{\"line\":{\"color\":\"#E5ECF6\",\"width\":0.5},\"pattern\":{\"fillmode\":\"overlay\",\"size\":10,\"solidity\":0.2}},\"type\":\"barpolar\"}],\"carpet\":[{\"aaxis\":{\"endlinecolor\":\"#2a3f5f\",\"gridcolor\":\"white\",\"linecolor\":\"white\",\"minorgridcolor\":\"white\",\"startlinecolor\":\"#2a3f5f\"},\"baxis\":{\"endlinecolor\":\"#2a3f5f\",\"gridcolor\":\"white\",\"linecolor\":\"white\",\"minorgridcolor\":\"white\",\"startlinecolor\":\"#2a3f5f\"},\"type\":\"carpet\"}],\"choropleth\":[{\"colorbar\":{\"outlinewidth\":0,\"ticks\":\"\"},\"type\":\"choropleth\"}],\"contour\":[{\"colorbar\":{\"outlinewidth\":0,\"ticks\":\"\"},\"colorscale\":[[0.0,\"#0d0887\"],[0.1111111111111111,\"#46039f\"],[0.2222222222222222,\"#7201a8\"],[0.3333333333333333,\"#9c179e\"],[0.4444444444444444,\"#bd3786\"],[0.5555555555555556,\"#d8576b\"],[0.6666666666666666,\"#ed7953\"],[0.7777777777777778,\"#fb9f3a\"],[0.8888888888888888,\"#fdca26\"],[1.0,\"#f0f921\"]],\"type\":\"contour\"}],\"contourcarpet\":[{\"colorbar\":{\"outlinewidth\":0,\"ticks\":\"\"},\"type\":\"contourcarpet\"}],\"heatmap\":[{\"colorbar\":{\"outlinewidth\":0,\"ticks\":\"\"},\"colorscale\":[[0.0,\"#0d0887\"],[0.1111111111111111,\"#46039f\"],[0.2222222222222222,\"#7201a8\"],[0.3333333333333333,\"#9c179e\"],[0.4444444444444444,\"#bd3786\"],[0.5555555555555556,\"#d8576b\"],[0.6666666666666666,\"#ed7953\"],[0.7777777777777778,\"#fb9f3a\"],[0.8888888888888888,\"#fdca26\"],[1.0,\"#f0f921\"]],\"type\":\"heatmap\"}],\"heatmapgl\":[{\"colorbar\":{\"outlinewidth\":0,\"ticks\":\"\"},\"colorscale\":[[0.0,\"#0d0887\"],[0.1111111111111111,\"#46039f\"],[0.2222222222222222,\"#7201a8\"],[0.3333333333333333,\"#9c179e\"],[0.4444444444444444,\"#bd3786\"],[0.5555555555555556,\"#d8576b\"],[0.6666666666666666,\"#ed7953\"],[0.7777777777777778,\"#fb9f3a\"],[0.8888888888888888,\"#fdca26\"],[1.0,\"#f0f921\"]],\"type\":\"heatmapgl\"}],\"histogram\":[{\"marker\":{\"pattern\":{\"fillmode\":\"overlay\",\"size\":10,\"solidity\":0.2}},\"type\":\"histogram\"}],\"histogram2d\":[{\"colorbar\":{\"outlinewidth\":0,\"ticks\":\"\"},\"colorscale\":[[0.0,\"#0d0887\"],[0.1111111111111111,\"#46039f\"],[0.2222222222222222,\"#7201a8\"],[0.3333333333333333,\"#9c179e\"],[0.4444444444444444,\"#bd3786\"],[0.5555555555555556,\"#d8576b\"],[0.6666666666666666,\"#ed7953\"],[0.7777777777777778,\"#fb9f3a\"],[0.8888888888888888,\"#fdca26\"],[1.0,\"#f0f921\"]],\"type\":\"histogram2d\"}],\"histogram2dcontour\":[{\"colorbar\":{\"outlinewidth\":0,\"ticks\":\"\"},\"colorscale\":[[0.0,\"#0d0887\"],[0.1111111111111111,\"#46039f\"],[0.2222222222222222,\"#7201a8\"],[0.3333333333333333,\"#9c179e\"],[0.4444444444444444,\"#bd3786\"],[0.5555555555555556,\"#d8576b\"],[0.6666666666666666,\"#ed7953\"],[0.7777777777777778,\"#fb9f3a\"],[0.8888888888888888,\"#fdca26\"],[1.0,\"#f0f921\"]],\"type\":\"histogram2dcontour\"}],\"mesh3d\":[{\"colorbar\":{\"outlinewidth\":0,\"ticks\":\"\"},\"type\":\"mesh3d\"}],\"parcoords\":[{\"line\":{\"colorbar\":{\"outlinewidth\":0,\"ticks\":\"\"}},\"type\":\"parcoords\"}],\"pie\":[{\"automargin\":true,\"type\":\"pie\"}],\"scatter\":[{\"marker\":{\"colorbar\":{\"outlinewidth\":0,\"ticks\":\"\"}},\"type\":\"scatter\"}],\"scatter3d\":[{\"line\":{\"colorbar\":{\"outlinewidth\":0,\"ticks\":\"\"}},\"marker\":{\"colorbar\":{\"outlinewidth\":0,\"ticks\":\"\"}},\"type\":\"scatter3d\"}],\"scattercarpet\":[{\"marker\":{\"colorbar\":{\"outlinewidth\":0,\"ticks\":\"\"}},\"type\":\"scattercarpet\"}],\"scattergeo\":[{\"marker\":{\"colorbar\":{\"outlinewidth\":0,\"ticks\":\"\"}},\"type\":\"scattergeo\"}],\"scattergl\":[{\"marker\":{\"colorbar\":{\"outlinewidth\":0,\"ticks\":\"\"}},\"type\":\"scattergl\"}],\"scattermapbox\":[{\"marker\":{\"colorbar\":{\"outlinewidth\":0,\"ticks\":\"\"}},\"type\":\"scattermapbox\"}],\"scatterpolar\":[{\"marker\":{\"colorbar\":{\"outlinewidth\":0,\"ticks\":\"\"}},\"type\":\"scatterpolar\"}],\"scatterpolargl\":[{\"marker\":{\"colorbar\":{\"outlinewidth\":0,\"ticks\":\"\"}},\"type\":\"scatterpolargl\"}],\"scatterternary\":[{\"marker\":{\"colorbar\":{\"outlinewidth\":0,\"ticks\":\"\"}},\"type\":\"scatterternary\"}],\"surface\":[{\"colorbar\":{\"outlinewidth\":0,\"ticks\":\"\"},\"colorscale\":[[0.0,\"#0d0887\"],[0.1111111111111111,\"#46039f\"],[0.2222222222222222,\"#7201a8\"],[0.3333333333333333,\"#9c179e\"],[0.4444444444444444,\"#bd3786\"],[0.5555555555555556,\"#d8576b\"],[0.6666666666666666,\"#ed7953\"],[0.7777777777777778,\"#fb9f3a\"],[0.8888888888888888,\"#fdca26\"],[1.0,\"#f0f921\"]],\"type\":\"surface\"}],\"table\":[{\"cells\":{\"fill\":{\"color\":\"#EBF0F8\"},\"line\":{\"color\":\"white\"}},\"header\":{\"fill\":{\"color\":\"#C8D4E3\"},\"line\":{\"color\":\"white\"}},\"type\":\"table\"}]},\"layout\":{\"annotationdefaults\":{\"arrowcolor\":\"#2a3f5f\",\"arrowhead\":0,\"arrowwidth\":1},\"autotypenumbers\":\"strict\",\"coloraxis\":{\"colorbar\":{\"outlinewidth\":0,\"ticks\":\"\"}},\"colorscale\":{\"diverging\":[[0,\"#8e0152\"],[0.1,\"#c51b7d\"],[0.2,\"#de77ae\"],[0.3,\"#f1b6da\"],[0.4,\"#fde0ef\"],[0.5,\"#f7f7f7\"],[0.6,\"#e6f5d0\"],[0.7,\"#b8e186\"],[0.8,\"#7fbc41\"],[0.9,\"#4d9221\"],[1,\"#276419\"]],\"sequential\":[[0.0,\"#0d0887\"],[0.1111111111111111,\"#46039f\"],[0.2222222222222222,\"#7201a8\"],[0.3333333333333333,\"#9c179e\"],[0.4444444444444444,\"#bd3786\"],[0.5555555555555556,\"#d8576b\"],[0.6666666666666666,\"#ed7953\"],[0.7777777777777778,\"#fb9f3a\"],[0.8888888888888888,\"#fdca26\"],[1.0,\"#f0f921\"]],\"sequentialminus\":[[0.0,\"#0d0887\"],[0.1111111111111111,\"#46039f\"],[0.2222222222222222,\"#7201a8\"],[0.3333333333333333,\"#9c179e\"],[0.4444444444444444,\"#bd3786\"],[0.5555555555555556,\"#d8576b\"],[0.6666666666666666,\"#ed7953\"],[0.7777777777777778,\"#fb9f3a\"],[0.8888888888888888,\"#fdca26\"],[1.0,\"#f0f921\"]]},\"colorway\":[\"#636efa\",\"#EF553B\",\"#00cc96\",\"#ab63fa\",\"#FFA15A\",\"#19d3f3\",\"#FF6692\",\"#B6E880\",\"#FF97FF\",\"#FECB52\"],\"font\":{\"color\":\"#2a3f5f\"},\"geo\":{\"bgcolor\":\"white\",\"lakecolor\":\"white\",\"landcolor\":\"#E5ECF6\",\"showlakes\":true,\"showland\":true,\"subunitcolor\":\"white\"},\"hoverlabel\":{\"align\":\"left\"},\"hovermode\":\"closest\",\"mapbox\":{\"style\":\"light\"},\"paper_bgcolor\":\"white\",\"plot_bgcolor\":\"#E5ECF6\",\"polar\":{\"angularaxis\":{\"gridcolor\":\"white\",\"linecolor\":\"white\",\"ticks\":\"\"},\"bgcolor\":\"#E5ECF6\",\"radialaxis\":{\"gridcolor\":\"white\",\"linecolor\":\"white\",\"ticks\":\"\"}},\"scene\":{\"xaxis\":{\"backgroundcolor\":\"#E5ECF6\",\"gridcolor\":\"white\",\"gridwidth\":2,\"linecolor\":\"white\",\"showbackground\":true,\"ticks\":\"\",\"zerolinecolor\":\"white\"},\"yaxis\":{\"backgroundcolor\":\"#E5ECF6\",\"gridcolor\":\"white\",\"gridwidth\":2,\"linecolor\":\"white\",\"showbackground\":true,\"ticks\":\"\",\"zerolinecolor\":\"white\"},\"zaxis\":{\"backgroundcolor\":\"#E5ECF6\",\"gridcolor\":\"white\",\"gridwidth\":2,\"linecolor\":\"white\",\"showbackground\":true,\"ticks\":\"\",\"zerolinecolor\":\"white\"}},\"shapedefaults\":{\"line\":{\"color\":\"#2a3f5f\"}},\"ternary\":{\"aaxis\":{\"gridcolor\":\"white\",\"linecolor\":\"white\",\"ticks\":\"\"},\"baxis\":{\"gridcolor\":\"white\",\"linecolor\":\"white\",\"ticks\":\"\"},\"bgcolor\":\"#E5ECF6\",\"caxis\":{\"gridcolor\":\"white\",\"linecolor\":\"white\",\"ticks\":\"\"}},\"title\":{\"x\":0.05},\"xaxis\":{\"automargin\":true,\"gridcolor\":\"white\",\"linecolor\":\"white\",\"ticks\":\"\",\"title\":{\"standoff\":15},\"zerolinecolor\":\"white\",\"zerolinewidth\":2},\"yaxis\":{\"automargin\":true,\"gridcolor\":\"white\",\"linecolor\":\"white\",\"ticks\":\"\",\"title\":{\"standoff\":15},\"zerolinecolor\":\"white\",\"zerolinewidth\":2}}},\"xaxis\":{\"anchor\":\"y\",\"domain\":[0.0,0.45]},\"yaxis\":{\"anchor\":\"x\",\"domain\":[0.9382716049382716,1.0]},\"xaxis2\":{\"anchor\":\"y2\",\"domain\":[0.55,1.0]},\"yaxis2\":{\"anchor\":\"x2\",\"domain\":[0.9382716049382716,1.0]},\"xaxis3\":{\"anchor\":\"y3\",\"domain\":[0.0,0.45]},\"yaxis3\":{\"anchor\":\"x3\",\"domain\":[0.8209876543209876,0.8827160493827161]},\"xaxis4\":{\"anchor\":\"y4\",\"domain\":[0.55,1.0]},\"yaxis4\":{\"anchor\":\"x4\",\"domain\":[0.8209876543209876,0.8827160493827161]},\"xaxis5\":{\"anchor\":\"y5\",\"domain\":[0.0,0.45]},\"yaxis5\":{\"anchor\":\"x5\",\"domain\":[0.7037037037037037,0.7654320987654322]},\"xaxis6\":{\"anchor\":\"y6\",\"domain\":[0.55,1.0]},\"yaxis6\":{\"anchor\":\"x6\",\"domain\":[0.7037037037037037,0.7654320987654322]},\"xaxis7\":{\"anchor\":\"y7\",\"domain\":[0.0,0.45]},\"yaxis7\":{\"anchor\":\"x7\",\"domain\":[0.5864197530864198,0.6481481481481483]},\"xaxis8\":{\"anchor\":\"y8\",\"domain\":[0.55,1.0]},\"yaxis8\":{\"anchor\":\"x8\",\"domain\":[0.5864197530864198,0.6481481481481483]},\"xaxis9\":{\"anchor\":\"y9\",\"domain\":[0.0,0.45]},\"yaxis9\":{\"anchor\":\"x9\",\"domain\":[0.4691358024691358,0.5308641975308642]},\"xaxis10\":{\"anchor\":\"y10\",\"domain\":[0.55,1.0]},\"yaxis10\":{\"anchor\":\"x10\",\"domain\":[0.4691358024691358,0.5308641975308642]},\"xaxis11\":{\"anchor\":\"y11\",\"domain\":[0.0,0.45]},\"yaxis11\":{\"anchor\":\"x11\",\"domain\":[0.35185185185185186,0.41358024691358025]},\"xaxis12\":{\"anchor\":\"y12\",\"domain\":[0.55,1.0]},\"yaxis12\":{\"anchor\":\"x12\",\"domain\":[0.35185185185185186,0.41358024691358025]},\"xaxis13\":{\"anchor\":\"y13\",\"domain\":[0.0,0.45]},\"yaxis13\":{\"anchor\":\"x13\",\"domain\":[0.2345679012345679,0.2962962962962963]},\"xaxis14\":{\"anchor\":\"y14\",\"domain\":[0.55,1.0]},\"yaxis14\":{\"anchor\":\"x14\",\"domain\":[0.2345679012345679,0.2962962962962963]},\"xaxis15\":{\"anchor\":\"y15\",\"domain\":[0.0,0.45]},\"yaxis15\":{\"anchor\":\"x15\",\"domain\":[0.11728395061728394,0.17901234567901234]},\"xaxis16\":{\"anchor\":\"y16\",\"domain\":[0.55,1.0]},\"yaxis16\":{\"anchor\":\"x16\",\"domain\":[0.11728395061728394,0.17901234567901234]},\"xaxis17\":{\"anchor\":\"y17\",\"domain\":[0.0,0.45]},\"yaxis17\":{\"anchor\":\"x17\",\"domain\":[0.0,0.0617283950617284]},\"xaxis18\":{\"anchor\":\"y18\",\"domain\":[0.55,1.0]},\"yaxis18\":{\"anchor\":\"x18\",\"domain\":[0.0,0.0617283950617284]},\"annotations\":[{\"font\":{\"size\":16},\"showarrow\":false,\"text\":\"AC 1\",\"x\":0.225,\"xanchor\":\"center\",\"xref\":\"paper\",\"y\":1.0,\"yanchor\":\"bottom\",\"yref\":\"paper\"},{\"font\":{\"size\":16},\"showarrow\":false,\"text\":\"AC 2\",\"x\":0.775,\"xanchor\":\"center\",\"xref\":\"paper\",\"y\":1.0,\"yanchor\":\"bottom\",\"yref\":\"paper\"},{\"font\":{\"size\":16},\"showarrow\":false,\"text\":\"AC 3\",\"x\":0.225,\"xanchor\":\"center\",\"xref\":\"paper\",\"y\":0.8827160493827161,\"yanchor\":\"bottom\",\"yref\":\"paper\"},{\"font\":{\"size\":16},\"showarrow\":false,\"text\":\"AC 4\",\"x\":0.775,\"xanchor\":\"center\",\"xref\":\"paper\",\"y\":0.8827160493827161,\"yanchor\":\"bottom\",\"yref\":\"paper\"},{\"font\":{\"size\":16},\"showarrow\":false,\"text\":\"AC 5\",\"x\":0.225,\"xanchor\":\"center\",\"xref\":\"paper\",\"y\":0.7654320987654322,\"yanchor\":\"bottom\",\"yref\":\"paper\"},{\"font\":{\"size\":16},\"showarrow\":false,\"text\":\"AC 6\",\"x\":0.775,\"xanchor\":\"center\",\"xref\":\"paper\",\"y\":0.7654320987654322,\"yanchor\":\"bottom\",\"yref\":\"paper\"},{\"font\":{\"size\":16},\"showarrow\":false,\"text\":\"AC 7\",\"x\":0.225,\"xanchor\":\"center\",\"xref\":\"paper\",\"y\":0.6481481481481483,\"yanchor\":\"bottom\",\"yref\":\"paper\"},{\"font\":{\"size\":16},\"showarrow\":false,\"text\":\"AC 8\",\"x\":0.775,\"xanchor\":\"center\",\"xref\":\"paper\",\"y\":0.6481481481481483,\"yanchor\":\"bottom\",\"yref\":\"paper\"},{\"font\":{\"size\":16},\"showarrow\":false,\"text\":\"AC 9\",\"x\":0.225,\"xanchor\":\"center\",\"xref\":\"paper\",\"y\":0.5308641975308642,\"yanchor\":\"bottom\",\"yref\":\"paper\"},{\"font\":{\"size\":16},\"showarrow\":false,\"text\":\"AC 10\",\"x\":0.775,\"xanchor\":\"center\",\"xref\":\"paper\",\"y\":0.5308641975308642,\"yanchor\":\"bottom\",\"yref\":\"paper\"},{\"font\":{\"size\":16},\"showarrow\":false,\"text\":\"AC 11\",\"x\":0.225,\"xanchor\":\"center\",\"xref\":\"paper\",\"y\":0.41358024691358025,\"yanchor\":\"bottom\",\"yref\":\"paper\"},{\"font\":{\"size\":16},\"showarrow\":false,\"text\":\"AC 12\",\"x\":0.775,\"xanchor\":\"center\",\"xref\":\"paper\",\"y\":0.41358024691358025,\"yanchor\":\"bottom\",\"yref\":\"paper\"},{\"font\":{\"size\":16},\"showarrow\":false,\"text\":\"AC 13\",\"x\":0.225,\"xanchor\":\"center\",\"xref\":\"paper\",\"y\":0.2962962962962963,\"yanchor\":\"bottom\",\"yref\":\"paper\"},{\"font\":{\"size\":16},\"showarrow\":false,\"text\":\"AC 14\",\"x\":0.775,\"xanchor\":\"center\",\"xref\":\"paper\",\"y\":0.2962962962962963,\"yanchor\":\"bottom\",\"yref\":\"paper\"},{\"font\":{\"size\":16},\"showarrow\":false,\"text\":\"AC 15\",\"x\":0.225,\"xanchor\":\"center\",\"xref\":\"paper\",\"y\":0.17901234567901234,\"yanchor\":\"bottom\",\"yref\":\"paper\"},{\"font\":{\"size\":16},\"showarrow\":false,\"text\":\"AC 16\",\"x\":0.775,\"xanchor\":\"center\",\"xref\":\"paper\",\"y\":0.17901234567901234,\"yanchor\":\"bottom\",\"yref\":\"paper\"},{\"font\":{\"size\":16},\"showarrow\":false,\"text\":\"AC 17\",\"x\":0.225,\"xanchor\":\"center\",\"xref\":\"paper\",\"y\":0.0617283950617284,\"yanchor\":\"bottom\",\"yref\":\"paper\"},{\"font\":{\"size\":16},\"showarrow\":false,\"text\":\"AC 18\",\"x\":0.775,\"xanchor\":\"center\",\"xref\":\"paper\",\"y\":0.0617283950617284,\"yanchor\":\"bottom\",\"yref\":\"paper\"}],\"height\":1500,\"width\":1000},                        {\"responsive\": true}                    ).then(function(){\n",
       "                            \n",
       "var gd = document.getElementById('532859f3-fd13-4be8-93ae-efd6193678df');\n",
       "var x = new MutationObserver(function (mutations, observer) {{\n",
       "        var display = window.getComputedStyle(gd).display;\n",
       "        if (!display || display === 'none') {{\n",
       "            console.log([gd, 'removed!']);\n",
       "            Plotly.purge(gd);\n",
       "            observer.disconnect();\n",
       "        }}\n",
       "}});\n",
       "\n",
       "// Listen for the removal of the full notebook cells\n",
       "var notebookContainer = gd.closest('#notebook-container');\n",
       "if (notebookContainer) {{\n",
       "    x.observe(notebookContainer, {childList: true});\n",
       "}}\n",
       "\n",
       "// Listen for the clearing of the current output cell\n",
       "var outputEl = gd.closest('.output');\n",
       "if (outputEl) {{\n",
       "    x.observe(outputEl, {childList: true});\n",
       "}}\n",
       "\n",
       "                        })                };                });            </script>        </div>"
      ]
     },
     "metadata": {},
     "output_type": "display_data"
    }
   ],
   "source": [
    "# Making line plots for day wise usage of each AC seperately \n",
    "\n",
    "fig = sp.make_subplots(rows = 9, cols = 2, subplot_titles=[a for a in index])\n",
    "k = 0\n",
    "for i in range(1,10):\n",
    "    for j in range(1,3):\n",
    "        fig.add_trace(go.Scatter(x = dk.index,y = dk[index[k]].values, mode = 'lines'),\n",
    "                      row = i, col = j)\n",
    "        k+=1\n",
    "fig.update_layout(height=1500, width=1000)\n",
    "fig.show()"
   ]
  },
  {
   "cell_type": "markdown",
   "id": "8b287bb4",
   "metadata": {},
   "source": [
    "__The AC usage trends__\n",
    "\n",
    "__Date wise trend__\n",
    "\n",
    "- It can be seen that from 11 August 2019 there is a continuous decrease in the usage of ACs\n",
    "- Then after 24 August 2019, there is sudden increase in the use of AC's\n",
    "- After that there are little ups and downs in the usage of AC's from 25th August to 30th September\n",
    "- There is only one sudden drop that is on from 11th September and then there is seen a rise again from around 14th September\n",
    "- AC5 and AC8 had consumed the least power, reaching a max of 2000 per day\n",
    "- AC18 had consumed the most power, reaching 6000 per day\n",
    "- Other ACs were in the range of 3000 to 4000 per day usage\n"
   ]
  },
  {
   "cell_type": "markdown",
   "id": "5e7fa399",
   "metadata": {},
   "source": [
    "## Conclusions"
   ]
  },
  {
   "cell_type": "markdown",
   "id": "b148b394",
   "metadata": {},
   "source": [
    "- The most used AC is AC 18\n",
    "- The least used AC is AC 5\n",
    "- From 1st August to 10th August the weather was very warm\n",
    "- From 11th August to 23rd August the weather must be cold enough to not require the AC\n",
    "- Then from 25th August there was a sudden increase of heat\n",
    "- Around 12th September the was cold (might be due to rain)\n",
    "- Rest the days were hot from 25th August to 30th September 2019"
   ]
  },
  {
   "cell_type": "code",
   "execution_count": 21,
   "id": "291c7ac2",
   "metadata": {},
   "outputs": [],
   "source": [
    "import plotly.io as pio\n",
    "pio.renderers.default = \"svg\""
   ]
  },
  {
   "cell_type": "code",
   "execution_count": 22,
   "id": "1bfe0790",
   "metadata": {},
   "outputs": [],
   "source": []
  },
  {
   "cell_type": "code",
   "execution_count": null,
   "id": "64ccca62",
   "metadata": {},
   "outputs": [],
   "source": []
  }
 ],
 "metadata": {
  "kernelspec": {
   "display_name": "Python 3",
   "language": "python",
   "name": "python3"
  },
  "language_info": {
   "codemirror_mode": {
    "name": "ipython",
    "version": 3
   },
   "file_extension": ".py",
   "mimetype": "text/x-python",
   "name": "python",
   "nbconvert_exporter": "python",
   "pygments_lexer": "ipython3",
   "version": "3.8.8"
  }
 },
 "nbformat": 4,
 "nbformat_minor": 5
}
